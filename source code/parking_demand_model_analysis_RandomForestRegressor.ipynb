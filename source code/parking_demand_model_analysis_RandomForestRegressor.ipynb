{
 "cells": [
  {
   "cell_type": "code",
   "execution_count": 81,
   "id": "b5a88628",
   "metadata": {},
   "outputs": [],
   "source": [
    "import pandas as pd\n",
    "import matplotlib.pyplot as plt\n",
    "import seaborn as sns\n",
    "import numpy as np\n",
    "\n",
    "%matplotlib inline\n",
    "import matplotlib as mpl\n",
    "import matplotlib.pyplot as plt\n",
    "import matplotlib.font_manager as fm\n",
    "import copy\n",
    "\n",
    "font_path = \"C:/Windows/Fonts/MALGUN.TTF\"\n",
    "font_name = fm.FontProperties(fname=font_path).get_name()\n",
    "plt.rc('font', family=font_name)\n",
    "plt.rc('xtick', labelsize=10)\n",
    "mpl.rcParams['axes.unicode_minus'] = False"
   ]
  },
  {
   "cell_type": "code",
   "execution_count": 82,
   "id": "6bf0957c",
   "metadata": {},
   "outputs": [],
   "source": [
    "X_train_df_sel = pd.read_csv(\"../data/dacon_parking_demand_dataset/preprocessed_data/X_train_df.csv\")\n",
    "X_test_df_sel = pd.read_csv(\"../data/dacon_parking_demand_dataset/preprocessed_data/X_test_df.csv\")\n",
    "y_train_df = pd.read_csv(\"../data/dacon_parking_demand_dataset/preprocessed_data/y_train_df.csv\")\n",
    "sub = pd.read_csv(\"../data/dacon_parking_demand_dataset/test.csv\")\n",
    "age = pd.read_csv(\"../data/dacon_parking_demand_dataset/age_gender_info.csv\")"
   ]
  },
  {
   "cell_type": "code",
   "execution_count": 83,
   "id": "6d193e51",
   "metadata": {},
   "outputs": [],
   "source": [
    "X_train_ori = X_train_df_sel.copy(deep=True)\n",
    "X_test_ori = X_test_df_sel.copy(deep=True)"
   ]
  },
  {
   "cell_type": "code",
   "execution_count": 84,
   "id": "f28e75d3",
   "metadata": {},
   "outputs": [],
   "source": [
    "X_train_df_sel = X_train_df_sel.drop([\"단지코드\"], axis=1)\n",
    "X_test_df_sel = X_test_df_sel.drop([\"단지코드\"], axis=1)"
   ]
  },
  {
   "cell_type": "code",
   "execution_count": 85,
   "id": "89953dc8",
   "metadata": {
    "scrolled": true
   },
   "outputs": [
    {
     "data": {
      "text/plain": [
       "array([[-0.24854825,  0.09980247,  0.1015166 , -0.07385873, -0.40235963,\n",
       "        -0.6388798 , -1.23153021, -0.08586964, -0.1850583 , -0.49738446,\n",
       "        -0.11430211, -0.03235359, -0.05609682,  4.18445665, -0.13181763,\n",
       "        -0.19297121, -0.10787079, -0.10787079, -0.02641199, -0.10279641,\n",
       "        -0.01867284, -0.25095121,  0.21128301, -0.26405319,  1.95495492,\n",
       "        -0.38059474, -0.20061544, -0.22734603, -0.19199747, -0.31967136,\n",
       "        -0.35928128, -0.0918469 , -0.10951231, -0.23238849, -0.19872784,\n",
       "        -0.18099   , -0.24141474, -0.24543128, -0.49356501,  0.49356501,\n",
       "        -0.01793852,  0.12848285],\n",
       "       [-0.24854825, -0.54553172,  0.1015166 ,  0.66893512, -0.40235963,\n",
       "        -0.6388798 ,  0.81199794, -0.08586964, -0.1850583 , -0.49738446,\n",
       "        -0.11430211, -0.03235359, -0.05609682, -0.23897965, -0.13181763,\n",
       "        -0.19297121, -0.10787079, -0.10787079, -0.02641199, -0.10279641,\n",
       "        -0.01867284, -0.25095121, -0.55080313, -0.26405319,  1.95495492,\n",
       "        -0.38059474, -0.20061544, -0.22734603, -0.19199747, -0.31967136,\n",
       "        -0.35928128, -0.0918469 , -0.10951231, -0.23238849, -0.19872784,\n",
       "        -0.18099   , -0.24141474, -0.24543128, -0.49356501,  0.49356501,\n",
       "        -0.53002473,  0.12848285],\n",
       "       [-0.24854825,  0.06978692,  0.1015166 ,  0.66893512, -0.40235963,\n",
       "        -0.6388798 , -1.23153021, -0.08586964, -0.1850583 , -0.49738446,\n",
       "        -0.11430211, -0.03235359, -0.05609682,  4.18445665, -0.13181763,\n",
       "        -0.19297121, -0.10787079, -0.10787079, -0.02641199, -0.10279641,\n",
       "        -0.01867284, -0.25095121,  0.17583714, -0.26405319,  1.95495492,\n",
       "        -0.38059474, -0.20061544, -0.22734603, -0.19199747, -0.31967136,\n",
       "        -0.35928128, -0.0918469 , -0.10951231, -0.23238849, -0.19872784,\n",
       "        -0.18099   , -0.24141474, -0.24543128, -0.49356501,  0.49356501,\n",
       "         0.16724395,  0.12848285],\n",
       "       [-0.24854825,  0.12981801,  0.1015166 ,  0.66893512, -0.40235963,\n",
       "        -0.6388798 , -1.23153021, -0.08586964, -0.1850583 , -0.49738446,\n",
       "        -0.11430211, -0.03235359, -0.05609682,  4.18445665, -0.13181763,\n",
       "        -0.19297121, -0.10787079, -0.10787079, -0.02641199, -0.10279641,\n",
       "        -0.01867284, -0.25095121,  0.24672887, -0.26405319,  1.95495492,\n",
       "        -0.38059474, -0.20061544, -0.22734603, -0.19199747, -0.31967136,\n",
       "        -0.35928128, -0.0918469 , -0.10951231, -0.23238849, -0.19872784,\n",
       "        -0.18099   , -0.24141474, -0.24543128, -0.49356501,  0.49356501,\n",
       "         0.23527016,  0.12848285],\n",
       "       [-0.24854825, -0.32041514,  0.1015166 ,  1.08753637, -0.40235963,\n",
       "        -0.6388798 , -1.23153021, -0.08586964, -0.1850583 , -0.49738446,\n",
       "        -0.11430211, -0.03235359, -0.05609682,  4.18445665, -0.13181763,\n",
       "        -0.19297121, -0.10787079, -0.10787079, -0.02641199, -0.10279641,\n",
       "        -0.01867284, -0.25095121, -0.28495913, -0.26405319,  1.95495492,\n",
       "        -0.38059474, -0.20061544, -0.22734603, -0.19199747, -0.31967136,\n",
       "        -0.35928128, -0.0918469 , -0.10951231, -0.23238849, -0.19872784,\n",
       "        -0.18099   , -0.24141474, -0.24543128, -0.49356501,  0.49356501,\n",
       "        -0.21823792,  0.12848285]])"
      ]
     },
     "execution_count": 85,
     "metadata": {},
     "output_type": "execute_result"
    }
   ],
   "source": [
    "from sklearn.preprocessing import StandardScaler\n",
    "\n",
    "scaler = StandardScaler()\n",
    "scaler.fit(X_train_df_sel)\n",
    "\n",
    "X_train_df_scaled = scaler.transform(X_train_df_sel)\n",
    "X_test_df_scaled = scaler.transform(X_test_df_sel)\n",
    "X_test_df_scaled[:5]"
   ]
  },
  {
   "cell_type": "markdown",
   "id": "3c2ad81f",
   "metadata": {},
   "source": [
    "### 랜덤포레스트회귀 모델 102.80211"
   ]
  },
  {
   "cell_type": "code",
   "execution_count": 86,
   "id": "d3eccef2",
   "metadata": {
    "scrolled": true
   },
   "outputs": [
    {
     "name": "stderr",
     "output_type": "stream",
     "text": [
      "<ipython-input-86-806d379ceabe>:6: DataConversionWarning: A column-vector y was passed when a 1d array was expected. Please change the shape of y to (n_samples,), for example using ravel().\n",
      "  model.fit(X_train_df_scaled, y_train_df)\n"
     ]
    },
    {
     "data": {
      "text/html": [
       "<div>\n",
       "<style scoped>\n",
       "    .dataframe tbody tr th:only-of-type {\n",
       "        vertical-align: middle;\n",
       "    }\n",
       "\n",
       "    .dataframe tbody tr th {\n",
       "        vertical-align: top;\n",
       "    }\n",
       "\n",
       "    .dataframe thead th {\n",
       "        text-align: right;\n",
       "    }\n",
       "</style>\n",
       "<table border=\"1\" class=\"dataframe\">\n",
       "  <thead>\n",
       "    <tr style=\"text-align: right;\">\n",
       "      <th></th>\n",
       "      <th>code</th>\n",
       "      <th>num</th>\n",
       "    </tr>\n",
       "  </thead>\n",
       "  <tbody>\n",
       "    <tr>\n",
       "      <th>0</th>\n",
       "      <td>C1072</td>\n",
       "      <td>778.888696</td>\n",
       "    </tr>\n",
       "    <tr>\n",
       "      <th>1</th>\n",
       "      <td>C1128</td>\n",
       "      <td>1346.914529</td>\n",
       "    </tr>\n",
       "    <tr>\n",
       "      <th>2</th>\n",
       "      <td>C1456</td>\n",
       "      <td>551.346741</td>\n",
       "    </tr>\n",
       "    <tr>\n",
       "      <th>3</th>\n",
       "      <td>C1840</td>\n",
       "      <td>474.976179</td>\n",
       "    </tr>\n",
       "    <tr>\n",
       "      <th>4</th>\n",
       "      <td>C1332</td>\n",
       "      <td>1211.934694</td>\n",
       "    </tr>\n",
       "    <tr>\n",
       "      <th>...</th>\n",
       "      <td>...</td>\n",
       "      <td>...</td>\n",
       "    </tr>\n",
       "    <tr>\n",
       "      <th>145</th>\n",
       "      <td>C2456</td>\n",
       "      <td>261.030966</td>\n",
       "    </tr>\n",
       "    <tr>\n",
       "      <th>146</th>\n",
       "      <td>C1266</td>\n",
       "      <td>381.882374</td>\n",
       "    </tr>\n",
       "    <tr>\n",
       "      <th>147</th>\n",
       "      <td>C2152</td>\n",
       "      <td>53.162481</td>\n",
       "    </tr>\n",
       "    <tr>\n",
       "      <th>148</th>\n",
       "      <td>C1267</td>\n",
       "      <td>392.868991</td>\n",
       "    </tr>\n",
       "    <tr>\n",
       "      <th>149</th>\n",
       "      <td>C2189</td>\n",
       "      <td>233.833225</td>\n",
       "    </tr>\n",
       "  </tbody>\n",
       "</table>\n",
       "<p>150 rows × 2 columns</p>\n",
       "</div>"
      ],
      "text/plain": [
       "      code          num\n",
       "0    C1072   778.888696\n",
       "1    C1128  1346.914529\n",
       "2    C1456   551.346741\n",
       "3    C1840   474.976179\n",
       "4    C1332  1211.934694\n",
       "..     ...          ...\n",
       "145  C2456   261.030966\n",
       "146  C1266   381.882374\n",
       "147  C2152    53.162481\n",
       "148  C1267   392.868991\n",
       "149  C2189   233.833225\n",
       "\n",
       "[150 rows x 2 columns]"
      ]
     },
     "execution_count": 86,
     "metadata": {},
     "output_type": "execute_result"
    }
   ],
   "source": [
    "# 최고 스코어 모델 -> 피처 42개 적용 및 모델 디폴트 설정으로 학습\n",
    "\n",
    "from sklearn.ensemble import RandomForestRegressor\n",
    "\n",
    "model = RandomForestRegressor(n_jobs=-1, random_state=42)\n",
    "model.fit(X_train_df_scaled, y_train_df)\n",
    "pred = model.predict(X_test_df_scaled)\n",
    "\n",
    "result = pd.DataFrame(data=pred, columns=[\"전용면적 당 차량등록수\"], index=X_test_ori.index)\n",
    "result[\"단지코드\"] = X_test_ori.loc[X_test_ori.index, \"단지코드\"]\n",
    "\n",
    "pred_group = result.groupby(\"단지코드\")[\"전용면적 당 차량등록수\"].sum()\n",
    "final_pred = pd.Series(pred_group)\n",
    "final_pred = final_pred.reset_index(drop=False)\n",
    "\n",
    "sub_df = sub.merge(final_pred, how=\"left\")\n",
    "sub_df = sub_df.drop_duplicates([\"단지코드\"], keep=\"first\").reset_index()\n",
    "sub_df = sub_df[[\"단지코드\", \"전용면적 당 차량등록수\"]]\n",
    "sub_df = sub_df.rename(columns={\"단지코드\":\"code\", \"전용면적 당 차량등록수\": \"num\"})\n",
    "# sub_df.to_csv(\"rf_regressor_with_전용면적_5의배수_전처리_0720.csv\", index=False)\n",
    "\n",
    "sub_df"
   ]
  },
  {
   "cell_type": "code",
   "execution_count": null,
   "id": "1b3e56a0",
   "metadata": {},
   "outputs": [],
   "source": []
  }
 ],
 "metadata": {
  "kernelspec": {
   "display_name": "Python 3",
   "language": "python",
   "name": "python3"
  },
  "language_info": {
   "codemirror_mode": {
    "name": "ipython",
    "version": 3
   },
   "file_extension": ".py",
   "mimetype": "text/x-python",
   "name": "python",
   "nbconvert_exporter": "python",
   "pygments_lexer": "ipython3",
   "version": "3.8.5"
  }
 },
 "nbformat": 4,
 "nbformat_minor": 5
}
