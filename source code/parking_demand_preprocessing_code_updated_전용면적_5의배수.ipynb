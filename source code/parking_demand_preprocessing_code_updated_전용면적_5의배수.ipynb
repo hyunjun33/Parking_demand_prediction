{
 "cells": [
  {
   "cell_type": "code",
   "execution_count": 153,
   "id": "b5a88628",
   "metadata": {},
   "outputs": [],
   "source": [
    "import pandas as pd\n",
    "import matplotlib.pyplot as plt\n",
    "import seaborn as sns\n",
    "import numpy as np\n",
    "\n",
    "%matplotlib inline\n",
    "import matplotlib as mpl\n",
    "import matplotlib.pyplot as plt\n",
    "import matplotlib.font_manager as fm\n",
    "import copy\n",
    "\n",
    "font_path = \"C:/Windows/Fonts/MALGUN.TTF\"\n",
    "font_name = fm.FontProperties(fname=font_path).get_name()\n",
    "plt.rc('font', family=font_name)\n",
    "plt.rc('xtick', labelsize=10)\n",
    "mpl.rcParams['axes.unicode_minus'] = False"
   ]
  },
  {
   "cell_type": "code",
   "execution_count": 154,
   "id": "6bf0957c",
   "metadata": {},
   "outputs": [],
   "source": [
    "train = pd.read_csv(\"train_without_error.csv\")\n",
    "test = pd.read_csv(\"test_without_error.csv\")"
   ]
  },
  {
   "cell_type": "code",
   "execution_count": 155,
   "id": "cb809997",
   "metadata": {},
   "outputs": [
    {
     "data": {
      "text/plain": [
       "((2869, 15), (1008, 14))"
      ]
     },
     "execution_count": 155,
     "metadata": {},
     "output_type": "execute_result"
    }
   ],
   "source": [
    "train.shape, test.shape"
   ]
  },
  {
   "cell_type": "code",
   "execution_count": 156,
   "id": "dddbef07",
   "metadata": {},
   "outputs": [
    {
     "data": {
      "text/plain": [
       "단지코드                              0\n",
       "총세대수                              0\n",
       "임대건물구분                            0\n",
       "지역                                0\n",
       "공급유형                              0\n",
       "전용면적                              0\n",
       "전용면적별세대수                          0\n",
       "공가수                               0\n",
       "자격유형                              0\n",
       "임대보증금                           180\n",
       "임대료                             180\n",
       "도보 10분거리 내 지하철역 수(환승노선 수 반영)     38\n",
       "도보 10분거리 내 버스정류장 수                0\n",
       "단지내주차면수                           0\n",
       "dtype: int64"
      ]
     },
     "execution_count": 156,
     "metadata": {},
     "output_type": "execute_result"
    }
   ],
   "source": [
    "# 자격 유형 피처 전처리\n",
    "\n",
    "test.loc[196, \"자격유형\"] = \"A\"\n",
    "test.loc[258, \"자격유형\"] = \"C\"\n",
    "test.isnull().sum()"
   ]
  },
  {
   "cell_type": "code",
   "execution_count": 157,
   "id": "213a1e70",
   "metadata": {},
   "outputs": [
    {
     "data": {
      "text/plain": [
       "단지코드                              0\n",
       "총세대수                              0\n",
       "임대건물구분                            0\n",
       "지역                                0\n",
       "공급유형                              0\n",
       "전용면적                              0\n",
       "전용면적별세대수                          0\n",
       "공가수                               0\n",
       "자격유형                              0\n",
       "임대보증금                           569\n",
       "임대료                             569\n",
       "도보 10분거리 내 지하철역 수(환승노선 수 반영)    207\n",
       "도보 10분거리 내 버스정류장 수                0\n",
       "단지내주차면수                           0\n",
       "등록차량수                             0\n",
       "dtype: int64"
      ]
     },
     "execution_count": 157,
     "metadata": {},
     "output_type": "execute_result"
    }
   ],
   "source": [
    "train.isnull().sum()"
   ]
  },
  {
   "cell_type": "code",
   "execution_count": 158,
   "id": "b81bf7a8",
   "metadata": {},
   "outputs": [],
   "source": [
    "# 임대보증금 피처 전처리\n",
    "\n",
    "train_df = train.copy(deep=True)\n",
    "test_df = test.copy(deep=True)\n",
    "\n",
    "train_df[\"임대보증금\"] = train_df[\"임대보증금\"].fillna(0)\n",
    "train_df.loc[train_df[\"임대보증금\"] == \"-\", \"임대보증금\"] = 0\n",
    "train_df[\"임대보증금\"] = train_df[\"임대보증금\"].astype(int)\n",
    "\n",
    "test_df[\"임대보증금\"] = test_df[\"임대보증금\"].fillna(0)\n",
    "test_df.loc[test_df[\"임대보증금\"] == \"-\", \"임대보증금\"] = 0\n",
    "test_df[\"임대보증금\"] = test_df[\"임대보증금\"].astype(int)"
   ]
  },
  {
   "cell_type": "code",
   "execution_count": 159,
   "id": "10af68ca",
   "metadata": {},
   "outputs": [],
   "source": [
    "# 레이블 인코딩인데, 원핫 인코딩으로 바꿔보기\n",
    "\n",
    "qualification_type_feature = pd.get_dummies(train_df[\"자격유형\"])\n",
    "train_df = pd.concat([train_df, qualification_type_feature], axis=1)\n",
    "\n",
    "qualification_type_feature = pd.get_dummies(test_df[\"자격유형\"])\n",
    "test_df = pd.concat([test_df, qualification_type_feature], axis=1)\n",
    "\n",
    "test_df[\"B\"] = 0\n",
    "test_df[\"F\"] = 0\n",
    "test_df[\"O\"] = 0"
   ]
  },
  {
   "cell_type": "code",
   "execution_count": 160,
   "id": "a2151f4b",
   "metadata": {},
   "outputs": [
    {
     "data": {
      "text/plain": [
       "((2869, 30), (1008, 29))"
      ]
     },
     "execution_count": 160,
     "metadata": {},
     "output_type": "execute_result"
    }
   ],
   "source": [
    "train_df.shape, test_df.shape"
   ]
  },
  {
   "cell_type": "code",
   "execution_count": 161,
   "id": "b8f67d75",
   "metadata": {},
   "outputs": [],
   "source": [
    "# 실거주 세대수 피처 생성\n",
    "\n",
    "train_df[\"실거주세대수\"] = train_df[\"총세대수\"] - train_df[\"공가수\"].astype(int)\n",
    "train_df.loc[train_df[\"임대보증금\"] == 0, \"임대보증금\"] = train_df[\"임대보증금\"].median()\n",
    "\n",
    "test_df[\"실거주세대수\"] = test_df[\"총세대수\"] - test_df[\"공가수\"].astype(int)\n",
    "test_df.loc[test_df[\"임대보증금\"] == 0, \"임대보증금\"] = train_df[\"임대보증금\"].median()"
   ]
  },
  {
   "cell_type": "code",
   "execution_count": 162,
   "id": "993feee1",
   "metadata": {},
   "outputs": [],
   "source": [
    "# 세대수 별 주차면수 피처 생성\n",
    "\n",
    "train_df[\"세대수비율주차면수\"] = (train_df[\"전용면적별세대수\"] / train_df[\"실거주세대수\"]) * train_df[\"단지내주차면수\"]\n",
    "test_df[\"세대수비율주차면수\"] = (test_df[\"전용면적별세대수\"] / test_df[\"실거주세대수\"]) * test_df[\"단지내주차면수\"]"
   ]
  },
  {
   "cell_type": "code",
   "execution_count": 163,
   "id": "70a4e4e1",
   "metadata": {},
   "outputs": [],
   "source": [
    "# 버스정류장 피처 전처리\n",
    "# 최빈값인 2로 채우기\n",
    "\n",
    "train_df[\"도보 10분거리 내 버스정류장 수\"] = train_df[\"도보 10분거리 내 버스정류장 수\"].fillna(2)\n",
    "test_df[\"도보 10분거리 내 버스정류장 수\"] = test_df[\"도보 10분거리 내 버스정류장 수\"].fillna(2)"
   ]
  },
  {
   "cell_type": "code",
   "execution_count": 164,
   "id": "87b38e48",
   "metadata": {},
   "outputs": [],
   "source": [
    "# 전철역 피처 전처리\n",
    "# Null 값 0으로 채우기\n",
    "\n",
    "train_df[\"도보 10분거리 내 지하철역 수(환승노선 수 반영)\"] = train_df[\"도보 10분거리 내 지하철역 수(환승노선 수 반영)\"].fillna(0)\n",
    "test_df[\"도보 10분거리 내 지하철역 수(환승노선 수 반영)\"] = test_df[\"도보 10분거리 내 지하철역 수(환승노선 수 반영)\"].fillna(0)"
   ]
  },
  {
   "cell_type": "code",
   "execution_count": 165,
   "id": "8359797e",
   "metadata": {},
   "outputs": [
    {
     "data": {
      "text/plain": [
       "<AxesSubplot:>"
      ]
     },
     "execution_count": 165,
     "metadata": {},
     "output_type": "execute_result"
    },
    {
     "data": {
      "image/png": "[encoded data removed]",
      "text/plain": [
       "<Figure size 432x288 with 1 Axes>"
      ]
     },
     "metadata": {
      "needs_background": "light"
     },
     "output_type": "display_data"
    }
   ],
   "source": [
    "area_group = train_df.groupby(\"지역\")[\"등록차량수\"]\n",
    "\n",
    "values = area_group.get_group(\"경기도\").value_counts().index\n",
    "counts = area_group.get_group(\"경기도\").value_counts().values\n",
    "\n",
    "sns.scatterplot(x=counts, y=values)"
   ]
  },
  {
   "cell_type": "code",
   "execution_count": 166,
   "id": "12892063",
   "metadata": {},
   "outputs": [],
   "source": [
    "# # 지역별 인구수 컬럼 추가\n",
    "# population_df = pd.read_csv(\"../data/dacon_parking_demand_dataset/age_gender_info.csv\")\n",
    "\n",
    "# train_df = pd.merge(train_df, population_df, on=\"지역\")\n",
    "# test_df = pd.merge(test_df, population_df, on=\"지역\")"
   ]
  },
  {
   "cell_type": "code",
   "execution_count": 167,
   "id": "c5e1d303",
   "metadata": {},
   "outputs": [],
   "source": [
    "# 지역 피처 원핫 인코딩\n",
    "\n",
    "area_df = pd.get_dummies(train_df[\"지역\"])\n",
    "area_df = area_df.drop(\"서울특별시\", axis=1)\n",
    "train_df = pd.concat([train_df, area_df], axis=1)\n",
    "\n",
    "area_df = pd.get_dummies(test_df[\"지역\"])\n",
    "test_df = pd.concat([test_df, area_df], axis=1)"
   ]
  },
  {
   "cell_type": "code",
   "execution_count": 168,
   "id": "65b57c6a",
   "metadata": {},
   "outputs": [],
   "source": [
    "# 임대건물 구분 피처 전처리 (아파트, 상가 원핫 인코딩)\n",
    "\n",
    "train_df = pd.concat([train_df, pd.get_dummies(train_df[\"임대건물구분\"])], axis=1)\n",
    "train_df.drop(\"임대건물구분\", axis=1, inplace=True)\n",
    "\n",
    "test_df = pd.concat([test_df, pd.get_dummies(test_df[\"임대건물구분\"])], axis=1)\n",
    "test_df.drop(\"임대건물구분\", axis=1, inplace=True)"
   ]
  },
  {
   "cell_type": "code",
   "execution_count": 169,
   "id": "f45d326e",
   "metadata": {},
   "outputs": [],
   "source": [
    "# 전용 면적 피처를 5의 배수로 전처리\n",
    "\n",
    "train_df[\"전용면적\"] = train_df[\"전용면적\"] // 5*5\n",
    "test_df[\"전용면적\"] = test_df[\"전용면적\"] // 5*5"
   ]
  },
  {
   "cell_type": "code",
   "execution_count": 170,
   "id": "92edfc25",
   "metadata": {},
   "outputs": [],
   "source": [
    "# 세대수 규모 당 총 전용 면적 피처 생성\n",
    "\n",
    "train_df[\"세대수 규모 당 총 전용면적\"] = train_df[\"전용면적\"] * train_df[\"전용면적별세대수\"]\n",
    "test_df[\"세대수 규모 당 총 전용면적\"] = test_df[\"전용면적\"] * test_df[\"전용면적별세대수\"]"
   ]
  },
  {
   "cell_type": "code",
   "execution_count": 171,
   "id": "a1e4aee0",
   "metadata": {},
   "outputs": [],
   "source": [
    "# 단지별 총 전용 면적 피처 생성\n",
    "\n",
    "train_df[\"단지별 총 전용면적\"] = train_df.groupby(\"단지코드\")[\"세대수 규모 당 총 전용면적\"].transform(np.sum)\n",
    "test_df[\"단지별 총 전용면적\"] = test_df.groupby(\"단지코드\")[\"세대수 규모 당 총 전용면적\"].transform(np.sum)"
   ]
  },
  {
   "cell_type": "code",
   "execution_count": 172,
   "id": "8c632a5c",
   "metadata": {},
   "outputs": [],
   "source": [
    "# 전용면적 당 차량등록수 피처 생성\n",
    "\n",
    "train_df[\"전용면적 당 차량등록수\"] = (train_df[\"세대수 규모 당 총 전용면적\"] / train_df[\"단지별 총 전용면적\"]) * train_df[\"등록차량수\"]"
   ]
  },
  {
   "cell_type": "code",
   "execution_count": 173,
   "id": "6b68951f",
   "metadata": {},
   "outputs": [],
   "source": [
    "# X_train & X_test 셋 선택\n",
    "\n",
    "X_train_df_sel = train_df.drop([\"지역\", \"공급유형\", \"전용면적\", \"자격유형\", \"임대료\",\n",
    "                                \"단지내주차면수\", \"등록차량수\", \"전용면적 당 차량등록수\"], axis=1)\n",
    "\n",
    "X_test_df_sel = test_df.drop([\"지역\", \"공급유형\", \"전용면적\", \"자격유형\", \"임대료\",\n",
    "                              \"단지내주차면수\"], axis=1)\n",
    "\n",
    "y_train_df = train_df[\"전용면적 당 차량등록수\"]"
   ]
  },
  {
   "cell_type": "code",
   "execution_count": 174,
   "id": "91c057c4",
   "metadata": {},
   "outputs": [
    {
     "data": {
      "text/plain": [
       "Index(['단지코드', '총세대수', '전용면적별세대수', '공가수', '임대보증금',\n",
       "       '도보 10분거리 내 지하철역 수(환승노선 수 반영)', '도보 10분거리 내 버스정류장 수', 'A', 'B', 'C',\n",
       "       'D', 'E', 'F', 'G', 'H', 'I', 'J', 'K', 'L', 'M', 'N', 'O', '실거주세대수',\n",
       "       '세대수비율주차면수', '강원도', '경기도', '경상남도', '경상북도', '광주광역시', '대구광역시', '대전광역시',\n",
       "       '부산광역시', '세종특별자치시', '울산광역시', '전라남도', '전라북도', '제주특별자치도', '충청남도', '충청북도',\n",
       "       '상가', '아파트', '세대수 규모 당 총 전용면적', '단지별 총 전용면적'],\n",
       "      dtype='object')"
      ]
     },
     "execution_count": 174,
     "metadata": {},
     "output_type": "execute_result"
    }
   ],
   "source": [
    "X_train_df_sel.columns"
   ]
  },
  {
   "cell_type": "code",
   "execution_count": 175,
   "id": "33a43540",
   "metadata": {},
   "outputs": [
    {
     "data": {
      "text/plain": [
       "Index(['단지코드', '총세대수', '전용면적별세대수', '공가수', '임대보증금',\n",
       "       '도보 10분거리 내 지하철역 수(환승노선 수 반영)', '도보 10분거리 내 버스정류장 수', 'A', 'C', 'D',\n",
       "       'E', 'G', 'H', 'I', 'J', 'K', 'L', 'M', 'N', 'B', 'F', 'O', '실거주세대수',\n",
       "       '세대수비율주차면수', '강원도', '경기도', '경상남도', '경상북도', '광주광역시', '대구광역시', '대전광역시',\n",
       "       '부산광역시', '세종특별자치시', '울산광역시', '전라남도', '전라북도', '제주특별자치도', '충청남도', '충청북도',\n",
       "       '상가', '아파트', '세대수 규모 당 총 전용면적', '단지별 총 전용면적'],\n",
       "      dtype='object')"
      ]
     },
     "execution_count": 175,
     "metadata": {},
     "output_type": "execute_result"
    }
   ],
   "source": [
    "X_test_df_sel.columns"
   ]
  },
  {
   "cell_type": "code",
   "execution_count": 176,
   "id": "758eab29",
   "metadata": {},
   "outputs": [
    {
     "data": {
      "text/plain": [
       "Index(['단지코드', '총세대수', '전용면적별세대수', '공가수', '임대보증금',\n",
       "       '도보 10분거리 내 지하철역 수(환승노선 수 반영)', '도보 10분거리 내 버스정류장 수', 'A', 'B', 'C',\n",
       "       'D', 'E', 'F', 'G', 'H', 'I', 'J', 'K', 'L', 'M', 'N', 'O', '실거주세대수',\n",
       "       '세대수비율주차면수', '강원도', '경기도', '경상남도', '경상북도', '광주광역시', '대구광역시', '대전광역시',\n",
       "       '부산광역시', '세종특별자치시', '울산광역시', '전라남도', '전라북도', '제주특별자치도', '충청남도', '충청북도',\n",
       "       '상가', '아파트', '세대수 규모 당 총 전용면적', '단지별 총 전용면적'],\n",
       "      dtype='object')"
      ]
     },
     "execution_count": 176,
     "metadata": {},
     "output_type": "execute_result"
    }
   ],
   "source": [
    "column_names = ['단지코드', '총세대수', '전용면적별세대수', '공가수', '임대보증금',\n",
    "       '도보 10분거리 내 지하철역 수(환승노선 수 반영)', '도보 10분거리 내 버스정류장 수', 'A', 'B', 'C',\n",
    "       'D', 'E', 'F', 'G', 'H', 'I', 'J', 'K', 'L', 'M', 'N', 'O', '실거주세대수',\n",
    "       '세대수비율주차면수', '강원도', '경기도', '경상남도', '경상북도', '광주광역시', '대구광역시', '대전광역시',\n",
    "       '부산광역시', '세종특별자치시', '울산광역시', '전라남도', '전라북도', '제주특별자치도', '충청남도', '충청북도',\n",
    "       '상가', '아파트', '세대수 규모 당 총 전용면적', '단지별 총 전용면적']\n",
    "\n",
    "X_test_df_sel = X_test_df_sel.reindex(columns=column_names)\n",
    "X_test_df_sel.columns"
   ]
  },
  {
   "cell_type": "code",
   "execution_count": 177,
   "id": "6c16dcc6",
   "metadata": {
    "scrolled": false
   },
   "outputs": [
    {
     "data": {
      "text/plain": [
       "(43, 43)"
      ]
     },
     "execution_count": 177,
     "metadata": {},
     "output_type": "execute_result"
    }
   ],
   "source": [
    "len(X_train_df_sel.columns), len(X_test_df_sel.columns)"
   ]
  },
  {
   "cell_type": "code",
   "execution_count": 179,
   "id": "757a1fa0",
   "metadata": {},
   "outputs": [],
   "source": [
    "# 전처리 완료된 데이터 셋 csv 파일로 추출\n",
    "\n",
    "X_train_df_sel.to_csv(\"X_train_df.csv\", index=False)\n",
    "X_test_df_sel.to_csv(\"X_test_df.csv\", index=False)\n",
    "y_train_df.to_csv(\"y_train_df.csv\", index=False)"
   ]
  }
 ],
 "metadata": {
  "kernelspec": {
   "display_name": "Python 3",
   "language": "python",
   "name": "python3"
  },
  "language_info": {
   "codemirror_mode": {
    "name": "ipython",
    "version": 3
   },
   "file_extension": ".py",
   "mimetype": "text/x-python",
   "name": "python",
   "nbconvert_exporter": "python",
   "pygments_lexer": "ipython3",
   "version": "3.8.5"
  }
 },
 "nbformat": 4,
 "nbformat_minor": 5
}
