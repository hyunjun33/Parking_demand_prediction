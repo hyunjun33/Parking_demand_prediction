{
 "cells": [
  {
   "cell_type": "code",
   "execution_count": 16,
   "id": "b5a88628",
   "metadata": {},
   "outputs": [],
   "source": [
    "import pandas as pd\n",
    "import matplotlib.pyplot as plt\n",
    "import seaborn as sns\n",
    "import numpy as np\n",
    "\n",
    "%matplotlib inline\n",
    "import matplotlib as mpl\n",
    "import matplotlib.pyplot as plt\n",
    "import matplotlib.font_manager as fm\n",
    "import copy\n",
    "\n",
    "font_path = \"C:/Windows/Fonts/MALGUN.TTF\"\n",
    "font_name = fm.FontProperties(fname=font_path).get_name()\n",
    "plt.rc('font', family=font_name)\n",
    "plt.rc('xtick', labelsize=10)\n",
    "mpl.rcParams['axes.unicode_minus'] = False"
   ]
  },
  {
   "cell_type": "code",
   "execution_count": 17,
   "id": "6bf0957c",
   "metadata": {},
   "outputs": [],
   "source": [
    "train = pd.read_csv(\"train_without_error.csv\")\n",
    "test = pd.read_csv(\"test_without_error.csv\")"
   ]
  },
  {
   "cell_type": "code",
   "execution_count": 18,
   "id": "cb809997",
   "metadata": {},
   "outputs": [
    {
     "data": {
      "text/plain": [
       "((2869, 15), (1008, 14))"
      ]
     },
     "execution_count": 18,
     "metadata": {},
     "output_type": "execute_result"
    }
   ],
   "source": [
    "train.shape, test.shape"
   ]
  },
  {
   "cell_type": "code",
   "execution_count": 19,
   "id": "dddbef07",
   "metadata": {},
   "outputs": [
    {
     "data": {
      "text/plain": [
       "단지코드                              0\n",
       "총세대수                              0\n",
       "임대건물구분                            0\n",
       "지역                                0\n",
       "공급유형                              0\n",
       "전용면적                              0\n",
       "전용면적별세대수                          0\n",
       "공가수                               0\n",
       "자격유형                              0\n",
       "임대보증금                           180\n",
       "임대료                             180\n",
       "도보 10분거리 내 지하철역 수(환승노선 수 반영)     38\n",
       "도보 10분거리 내 버스정류장 수                0\n",
       "단지내주차면수                           0\n",
       "dtype: int64"
      ]
     },
     "execution_count": 19,
     "metadata": {},
     "output_type": "execute_result"
    }
   ],
   "source": [
    "# 자격 유형 피처 전처리\n",
    "\n",
    "test.loc[196, \"자격유형\"] = \"A\"\n",
    "test.loc[258, \"자격유형\"] = \"C\"\n",
    "test.isnull().sum()"
   ]
  },
  {
   "cell_type": "code",
   "execution_count": 20,
   "id": "213a1e70",
   "metadata": {},
   "outputs": [
    {
     "data": {
      "text/plain": [
       "단지코드                              0\n",
       "총세대수                              0\n",
       "임대건물구분                            0\n",
       "지역                                0\n",
       "공급유형                              0\n",
       "전용면적                              0\n",
       "전용면적별세대수                          0\n",
       "공가수                               0\n",
       "자격유형                              0\n",
       "임대보증금                           569\n",
       "임대료                             569\n",
       "도보 10분거리 내 지하철역 수(환승노선 수 반영)    207\n",
       "도보 10분거리 내 버스정류장 수                0\n",
       "단지내주차면수                           0\n",
       "등록차량수                             0\n",
       "dtype: int64"
      ]
     },
     "execution_count": 20,
     "metadata": {},
     "output_type": "execute_result"
    }
   ],
   "source": [
    "train.isnull().sum()"
   ]
  },
  {
   "cell_type": "code",
   "execution_count": 21,
   "id": "b81bf7a8",
   "metadata": {},
   "outputs": [],
   "source": [
    "# 임대보증금 피처 전처리\n",
    "\n",
    "train_df = train.copy(deep=True)\n",
    "test_df = test.copy(deep=True)\n",
    "\n",
    "train_df[\"임대보증금\"] = train_df[\"임대보증금\"].fillna(0)\n",
    "train_df.loc[train_df[\"임대보증금\"] == \"-\", \"임대보증금\"] = 0\n",
    "train_df[\"임대보증금\"] = train_df[\"임대보증금\"].astype(int)\n",
    "\n",
    "test_df[\"임대보증금\"] = test_df[\"임대보증금\"].fillna(0)\n",
    "test_df.loc[test_df[\"임대보증금\"] == \"-\", \"임대보증금\"] = 0\n",
    "test_df[\"임대보증금\"] = test_df[\"임대보증금\"].astype(int)"
   ]
  },
  {
   "cell_type": "code",
   "execution_count": 22,
   "id": "10af68ca",
   "metadata": {},
   "outputs": [],
   "source": [
    "# 레이블 인코딩인데, 원핫 인코딩으로 바꿔보기\n",
    "\n",
    "qualification_type_feature = pd.get_dummies(train_df[\"자격유형\"])\n",
    "train_df = pd.concat([train_df, qualification_type_feature], axis=1)\n",
    "\n",
    "qualification_type_feature = pd.get_dummies(test_df[\"자격유형\"])\n",
    "test_df = pd.concat([test_df, qualification_type_feature], axis=1)\n",
    "\n",
    "test_df[\"B\"] = 0\n",
    "test_df[\"F\"] = 0\n",
    "test_df[\"O\"] = 0"
   ]
  },
  {
   "cell_type": "code",
   "execution_count": 23,
   "id": "a2151f4b",
   "metadata": {},
   "outputs": [
    {
     "data": {
      "text/plain": [
       "((2869, 30), (1008, 29))"
      ]
     },
     "execution_count": 23,
     "metadata": {},
     "output_type": "execute_result"
    }
   ],
   "source": [
    "train_df.shape, test_df.shape"
   ]
  },
  {
   "cell_type": "code",
   "execution_count": 24,
   "id": "b8f67d75",
   "metadata": {},
   "outputs": [],
   "source": [
    "# 실거주 세대수 피처 생성\n",
    "\n",
    "train_df[\"실거주세대수\"] = train_df[\"총세대수\"] - train_df[\"공가수\"].astype(int)\n",
    "train_df.loc[train_df[\"임대보증금\"] == 0, \"임대보증금\"] = train_df[\"임대보증금\"].median()\n",
    "\n",
    "test_df[\"실거주세대수\"] = test_df[\"총세대수\"] - test_df[\"공가수\"].astype(int)\n",
    "test_df.loc[test_df[\"임대보증금\"] == 0, \"임대보증금\"] = train_df[\"임대보증금\"].median()"
   ]
  },
  {
   "cell_type": "code",
   "execution_count": 25,
   "id": "993feee1",
   "metadata": {},
   "outputs": [],
   "source": [
    "# 세대수 별 주차면수 피처 생성\n",
    "\n",
    "train_df[\"세대수비율주차면수\"] = (train_df[\"전용면적별세대수\"] / train_df[\"실거주세대수\"]) * train_df[\"단지내주차면수\"]\n",
    "test_df[\"세대수비율주차면수\"] = (test_df[\"전용면적별세대수\"] / test_df[\"실거주세대수\"]) * test_df[\"단지내주차면수\"]"
   ]
  },
  {
   "cell_type": "code",
   "execution_count": 26,
   "id": "70a4e4e1",
   "metadata": {},
   "outputs": [],
   "source": [
    "# 버스정류장 피처 전처리\n",
    "# 최빈값인 2로 채우기\n",
    "\n",
    "train_df[\"도보 10분거리 내 버스정류장 수\"] = train_df[\"도보 10분거리 내 버스정류장 수\"].fillna(2)\n",
    "test_df[\"도보 10분거리 내 버스정류장 수\"] = test_df[\"도보 10분거리 내 버스정류장 수\"].fillna(2)"
   ]
  },
  {
   "cell_type": "code",
   "execution_count": 27,
   "id": "87b38e48",
   "metadata": {},
   "outputs": [],
   "source": [
    "# 전철역 피처 전처리\n",
    "# Null 값 0으로 채우기\n",
    "\n",
    "train_df[\"도보 10분거리 내 지하철역 수(환승노선 수 반영)\"] = train_df[\"도보 10분거리 내 지하철역 수(환승노선 수 반영)\"].fillna(0)\n",
    "test_df[\"도보 10분거리 내 지하철역 수(환승노선 수 반영)\"] = test_df[\"도보 10분거리 내 지하철역 수(환승노선 수 반영)\"].fillna(0)"
   ]
  },
  {
   "cell_type": "code",
   "execution_count": 28,
   "id": "8359797e",
   "metadata": {},
   "outputs": [
    {
     "data": {
      "text/plain": [
       "<AxesSubplot:>"
      ]
     },
     "execution_count": 28,
     "metadata": {},
     "output_type": "execute_result"
    },
    {
     "data": {
      "image/png": "[encoded data removed]",
      "text/plain": [
       "<Figure size 432x288 with 1 Axes>"
      ]
     },
     "metadata": {
      "needs_background": "light"
     },
     "output_type": "display_data"
    }
   ],
   "source": [
    "area_group = train_df.groupby(\"지역\")[\"등록차량수\"]\n",
    "\n",
    "values = area_group.get_group(\"경기도\").value_counts().index\n",
    "counts = area_group.get_group(\"경기도\").value_counts().values\n",
    "\n",
    "sns.scatterplot(x=counts, y=values)"
   ]
  },
  {
   "cell_type": "code",
   "execution_count": 29,
   "id": "c5e1d303",
   "metadata": {},
   "outputs": [],
   "source": [
    "# 지역 피처 원핫 인코딩\n",
    "\n",
    "area_df = pd.get_dummies(train_df[\"지역\"])\n",
    "area_df = area_df.drop(\"서울특별시\", axis=1)\n",
    "train_df = pd.concat([train_df, area_df], axis=1)\n",
    "\n",
    "area_df = pd.get_dummies(test_df[\"지역\"])\n",
    "test_df = pd.concat([test_df, area_df], axis=1)"
   ]
  },
  {
   "cell_type": "code",
   "execution_count": 30,
   "id": "65b57c6a",
   "metadata": {},
   "outputs": [],
   "source": [
    "# 임대건물 구분 피처 전처리 (아파트, 상가 원핫 인코딩)\n",
    "\n",
    "train_df = pd.concat([train_df, pd.get_dummies(train_df[\"임대건물구분\"])], axis=1)\n",
    "train_df.drop(\"임대건물구분\", axis=1, inplace=True)\n",
    "\n",
    "test_df = pd.concat([test_df, pd.get_dummies(test_df[\"임대건물구분\"])], axis=1)\n",
    "test_df.drop(\"임대건물구분\", axis=1, inplace=True)"
   ]
  },
  {
   "cell_type": "code",
   "execution_count": 31,
   "id": "92edfc25",
   "metadata": {},
   "outputs": [],
   "source": [
    "# 세대수 규모 당 총 전용 면적 피처 생성\n",
    "\n",
    "train_df[\"세대수 규모 당 총 전용면적\"] = train_df[\"전용면적\"] * train_df[\"전용면적별세대수\"]\n",
    "test_df[\"세대수 규모 당 총 전용면적\"] = test_df[\"전용면적\"] * test_df[\"전용면적별세대수\"]"
   ]
  },
  {
   "cell_type": "code",
   "execution_count": 32,
   "id": "a1e4aee0",
   "metadata": {},
   "outputs": [],
   "source": [
    "# 단지별 총 전용 면적 피처 생성\n",
    "\n",
    "train_df[\"단지별 총 전용면적\"] = train_df.groupby(\"단지코드\")[\"세대수 규모 당 총 전용면적\"].transform(np.sum)\n",
    "test_df[\"단지별 총 전용면적\"] = test_df.groupby(\"단지코드\")[\"세대수 규모 당 총 전용면적\"].transform(np.sum)"
   ]
  },
  {
   "cell_type": "code",
   "execution_count": 33,
   "id": "8c632a5c",
   "metadata": {},
   "outputs": [],
   "source": [
    "# 전용면적 당 차량등록수 피처 생성\n",
    "\n",
    "train_df[\"전용면적 당 차량등록수\"] = (train_df[\"세대수 규모 당 총 전용면적\"] / train_df[\"단지별 총 전용면적\"]) * train_df[\"등록차량수\"]"
   ]
  },
  {
   "cell_type": "code",
   "execution_count": 34,
   "id": "6b68951f",
   "metadata": {},
   "outputs": [],
   "source": [
    "# X_train & X_test 셋 선택\n",
    "\n",
    "X_train_df_sel = train_df.drop([\"단지코드\", \"지역\", \"공급유형\", \"전용면적\", \"자격유형\", \"임대료\",\n",
    "                                \"단지내주차면수\", \"등록차량수\", \"전용면적 당 차량등록수\"], axis=1)\n",
    "\n",
    "X_test_df_sel = test_df.drop([\"단지코드\", \"지역\", \"공급유형\", \"전용면적\", \"자격유형\", \"임대료\",\n",
    "                              \"단지내주차면수\"], axis=1)\n",
    "\n",
    "y_train_df = train_df[\"전용면적 당 차량등록수\"]"
   ]
  },
  {
   "cell_type": "code",
   "execution_count": 35,
   "id": "91c057c4",
   "metadata": {},
   "outputs": [
    {
     "data": {
      "text/plain": [
       "Index(['총세대수', '전용면적별세대수', '공가수', '임대보증금', '도보 10분거리 내 지하철역 수(환승노선 수 반영)',\n",
       "       '도보 10분거리 내 버스정류장 수', 'A', 'B', 'C', 'D', 'E', 'F', 'G', 'H', 'I', 'J',\n",
       "       'K', 'L', 'M', 'N', 'O', '실거주세대수', '세대수비율주차면수', '강원도', '경기도', '경상남도',\n",
       "       '경상북도', '광주광역시', '대구광역시', '대전광역시', '부산광역시', '세종특별자치시', '울산광역시', '전라남도',\n",
       "       '전라북도', '제주특별자치도', '충청남도', '충청북도', '상가', '아파트', '세대수 규모 당 총 전용면적',\n",
       "       '단지별 총 전용면적'],\n",
       "      dtype='object')"
      ]
     },
     "execution_count": 35,
     "metadata": {},
     "output_type": "execute_result"
    }
   ],
   "source": [
    "X_train_df_sel.columns"
   ]
  },
  {
   "cell_type": "code",
   "execution_count": 36,
   "id": "758eab29",
   "metadata": {},
   "outputs": [
    {
     "data": {
      "text/plain": [
       "Index(['총세대수', '전용면적별세대수', '공가수', '임대보증금', '도보 10분거리 내 지하철역 수(환승노선 수 반영)',\n",
       "       '도보 10분거리 내 버스정류장 수', 'A', 'B', 'C', 'D', 'E', 'F', 'G', 'H', 'I', 'J',\n",
       "       'K', 'L', 'M', 'N', 'O', '실거주세대수', '세대수비율주차면수', '강원도', '경기도', '경상남도',\n",
       "       '경상북도', '광주광역시', '대구광역시', '대전광역시', '부산광역시', '세종특별자치시', '울산광역시', '전라남도',\n",
       "       '전라북도', '제주특별자치도', '충청남도', '충청북도', '상가', '아파트', '세대수 규모 당 총 전용면적',\n",
       "       '단지별 총 전용면적'],\n",
       "      dtype='object')"
      ]
     },
     "execution_count": 36,
     "metadata": {},
     "output_type": "execute_result"
    }
   ],
   "source": [
    "column_names = ['총세대수', '전용면적별세대수', '공가수', '임대보증금', '도보 10분거리 내 지하철역 수(환승노선 수 반영)',\n",
    "       '도보 10분거리 내 버스정류장 수', 'A', 'B', 'C', 'D', 'E', 'F', 'G', 'H', 'I', 'J',\n",
    "       'K', 'L', 'M', 'N', 'O', '실거주세대수', '세대수비율주차면수', '강원도', '경기도', '경상남도',\n",
    "       '경상북도', '광주광역시', '대구광역시', '대전광역시', '부산광역시', '세종특별자치시', '울산광역시', '전라남도',\n",
    "       '전라북도', '제주특별자치도', '충청남도', '충청북도', '상가', '아파트', '세대수 규모 당 총 전용면적',\n",
    "       '단지별 총 전용면적']\n",
    "\n",
    "X_test_df_sel = X_test_df_sel.reindex(columns=column_names)\n",
    "X_test_df_sel.columns"
   ]
  },
  {
   "cell_type": "code",
   "execution_count": 37,
   "id": "6c16dcc6",
   "metadata": {
    "scrolled": true
   },
   "outputs": [
    {
     "data": {
      "text/html": [
       "<div>\n",
       "<style scoped>\n",
       "    .dataframe tbody tr th:only-of-type {\n",
       "        vertical-align: middle;\n",
       "    }\n",
       "\n",
       "    .dataframe tbody tr th {\n",
       "        vertical-align: top;\n",
       "    }\n",
       "\n",
       "    .dataframe thead th {\n",
       "        text-align: right;\n",
       "    }\n",
       "</style>\n",
       "<table border=\"1\" class=\"dataframe\">\n",
       "  <thead>\n",
       "    <tr style=\"text-align: right;\">\n",
       "      <th></th>\n",
       "      <th>총세대수</th>\n",
       "      <th>전용면적별세대수</th>\n",
       "      <th>공가수</th>\n",
       "      <th>임대보증금</th>\n",
       "      <th>도보 10분거리 내 지하철역 수(환승노선 수 반영)</th>\n",
       "      <th>도보 10분거리 내 버스정류장 수</th>\n",
       "      <th>A</th>\n",
       "      <th>B</th>\n",
       "      <th>C</th>\n",
       "      <th>D</th>\n",
       "      <th>...</th>\n",
       "      <th>울산광역시</th>\n",
       "      <th>전라남도</th>\n",
       "      <th>전라북도</th>\n",
       "      <th>제주특별자치도</th>\n",
       "      <th>충청남도</th>\n",
       "      <th>충청북도</th>\n",
       "      <th>상가</th>\n",
       "      <th>아파트</th>\n",
       "      <th>세대수 규모 당 총 전용면적</th>\n",
       "      <th>단지별 총 전용면적</th>\n",
       "    </tr>\n",
       "  </thead>\n",
       "  <tbody>\n",
       "    <tr>\n",
       "      <th>0</th>\n",
       "      <td>545</td>\n",
       "      <td>276</td>\n",
       "      <td>17.0</td>\n",
       "      <td>9216000.0</td>\n",
       "      <td>0.0</td>\n",
       "      <td>3.0</td>\n",
       "      <td>1</td>\n",
       "      <td>0</td>\n",
       "      <td>0</td>\n",
       "      <td>0</td>\n",
       "      <td>...</td>\n",
       "      <td>0</td>\n",
       "      <td>0</td>\n",
       "      <td>0</td>\n",
       "      <td>0</td>\n",
       "      <td>0</td>\n",
       "      <td>0</td>\n",
       "      <td>0</td>\n",
       "      <td>1</td>\n",
       "      <td>9240.48</td>\n",
       "      <td>21941.82</td>\n",
       "    </tr>\n",
       "    <tr>\n",
       "      <th>1</th>\n",
       "      <td>545</td>\n",
       "      <td>60</td>\n",
       "      <td>17.0</td>\n",
       "      <td>12672000.0</td>\n",
       "      <td>0.0</td>\n",
       "      <td>3.0</td>\n",
       "      <td>1</td>\n",
       "      <td>0</td>\n",
       "      <td>0</td>\n",
       "      <td>0</td>\n",
       "      <td>...</td>\n",
       "      <td>0</td>\n",
       "      <td>0</td>\n",
       "      <td>0</td>\n",
       "      <td>0</td>\n",
       "      <td>0</td>\n",
       "      <td>0</td>\n",
       "      <td>0</td>\n",
       "      <td>1</td>\n",
       "      <td>2376.00</td>\n",
       "      <td>21941.82</td>\n",
       "    </tr>\n",
       "    <tr>\n",
       "      <th>2</th>\n",
       "      <td>545</td>\n",
       "      <td>20</td>\n",
       "      <td>17.0</td>\n",
       "      <td>12672000.0</td>\n",
       "      <td>0.0</td>\n",
       "      <td>3.0</td>\n",
       "      <td>1</td>\n",
       "      <td>0</td>\n",
       "      <td>0</td>\n",
       "      <td>0</td>\n",
       "      <td>...</td>\n",
       "      <td>0</td>\n",
       "      <td>0</td>\n",
       "      <td>0</td>\n",
       "      <td>0</td>\n",
       "      <td>0</td>\n",
       "      <td>0</td>\n",
       "      <td>0</td>\n",
       "      <td>1</td>\n",
       "      <td>792.00</td>\n",
       "      <td>21941.82</td>\n",
       "    </tr>\n",
       "    <tr>\n",
       "      <th>3</th>\n",
       "      <td>545</td>\n",
       "      <td>38</td>\n",
       "      <td>17.0</td>\n",
       "      <td>18433000.0</td>\n",
       "      <td>0.0</td>\n",
       "      <td>3.0</td>\n",
       "      <td>1</td>\n",
       "      <td>0</td>\n",
       "      <td>0</td>\n",
       "      <td>0</td>\n",
       "      <td>...</td>\n",
       "      <td>0</td>\n",
       "      <td>0</td>\n",
       "      <td>0</td>\n",
       "      <td>0</td>\n",
       "      <td>0</td>\n",
       "      <td>0</td>\n",
       "      <td>0</td>\n",
       "      <td>1</td>\n",
       "      <td>1782.20</td>\n",
       "      <td>21941.82</td>\n",
       "    </tr>\n",
       "    <tr>\n",
       "      <th>4</th>\n",
       "      <td>545</td>\n",
       "      <td>19</td>\n",
       "      <td>17.0</td>\n",
       "      <td>18433000.0</td>\n",
       "      <td>0.0</td>\n",
       "      <td>3.0</td>\n",
       "      <td>1</td>\n",
       "      <td>0</td>\n",
       "      <td>0</td>\n",
       "      <td>0</td>\n",
       "      <td>...</td>\n",
       "      <td>0</td>\n",
       "      <td>0</td>\n",
       "      <td>0</td>\n",
       "      <td>0</td>\n",
       "      <td>0</td>\n",
       "      <td>0</td>\n",
       "      <td>0</td>\n",
       "      <td>1</td>\n",
       "      <td>891.10</td>\n",
       "      <td>21941.82</td>\n",
       "    </tr>\n",
       "    <tr>\n",
       "      <th>...</th>\n",
       "      <td>...</td>\n",
       "      <td>...</td>\n",
       "      <td>...</td>\n",
       "      <td>...</td>\n",
       "      <td>...</td>\n",
       "      <td>...</td>\n",
       "      <td>...</td>\n",
       "      <td>...</td>\n",
       "      <td>...</td>\n",
       "      <td>...</td>\n",
       "      <td>...</td>\n",
       "      <td>...</td>\n",
       "      <td>...</td>\n",
       "      <td>...</td>\n",
       "      <td>...</td>\n",
       "      <td>...</td>\n",
       "      <td>...</td>\n",
       "      <td>...</td>\n",
       "      <td>...</td>\n",
       "      <td>...</td>\n",
       "      <td>...</td>\n",
       "    </tr>\n",
       "    <tr>\n",
       "      <th>2864</th>\n",
       "      <td>239</td>\n",
       "      <td>19</td>\n",
       "      <td>7.0</td>\n",
       "      <td>11346000.0</td>\n",
       "      <td>0.0</td>\n",
       "      <td>1.0</td>\n",
       "      <td>1</td>\n",
       "      <td>0</td>\n",
       "      <td>0</td>\n",
       "      <td>0</td>\n",
       "      <td>...</td>\n",
       "      <td>0</td>\n",
       "      <td>0</td>\n",
       "      <td>0</td>\n",
       "      <td>0</td>\n",
       "      <td>0</td>\n",
       "      <td>0</td>\n",
       "      <td>0</td>\n",
       "      <td>1</td>\n",
       "      <td>934.80</td>\n",
       "      <td>12283.42</td>\n",
       "    </tr>\n",
       "    <tr>\n",
       "      <th>2865</th>\n",
       "      <td>239</td>\n",
       "      <td>34</td>\n",
       "      <td>7.0</td>\n",
       "      <td>14005000.0</td>\n",
       "      <td>0.0</td>\n",
       "      <td>1.0</td>\n",
       "      <td>1</td>\n",
       "      <td>0</td>\n",
       "      <td>0</td>\n",
       "      <td>0</td>\n",
       "      <td>...</td>\n",
       "      <td>0</td>\n",
       "      <td>0</td>\n",
       "      <td>0</td>\n",
       "      <td>0</td>\n",
       "      <td>0</td>\n",
       "      <td>0</td>\n",
       "      <td>0</td>\n",
       "      <td>1</td>\n",
       "      <td>1736.72</td>\n",
       "      <td>12283.42</td>\n",
       "    </tr>\n",
       "    <tr>\n",
       "      <th>2866</th>\n",
       "      <td>239</td>\n",
       "      <td>34</td>\n",
       "      <td>7.0</td>\n",
       "      <td>14005000.0</td>\n",
       "      <td>0.0</td>\n",
       "      <td>1.0</td>\n",
       "      <td>1</td>\n",
       "      <td>0</td>\n",
       "      <td>0</td>\n",
       "      <td>0</td>\n",
       "      <td>...</td>\n",
       "      <td>0</td>\n",
       "      <td>0</td>\n",
       "      <td>0</td>\n",
       "      <td>0</td>\n",
       "      <td>0</td>\n",
       "      <td>0</td>\n",
       "      <td>0</td>\n",
       "      <td>1</td>\n",
       "      <td>1758.82</td>\n",
       "      <td>12283.42</td>\n",
       "    </tr>\n",
       "    <tr>\n",
       "      <th>2867</th>\n",
       "      <td>239</td>\n",
       "      <td>114</td>\n",
       "      <td>7.0</td>\n",
       "      <td>14005000.0</td>\n",
       "      <td>0.0</td>\n",
       "      <td>1.0</td>\n",
       "      <td>1</td>\n",
       "      <td>0</td>\n",
       "      <td>0</td>\n",
       "      <td>0</td>\n",
       "      <td>...</td>\n",
       "      <td>0</td>\n",
       "      <td>0</td>\n",
       "      <td>0</td>\n",
       "      <td>0</td>\n",
       "      <td>0</td>\n",
       "      <td>0</td>\n",
       "      <td>0</td>\n",
       "      <td>1</td>\n",
       "      <td>5923.44</td>\n",
       "      <td>12283.42</td>\n",
       "    </tr>\n",
       "    <tr>\n",
       "      <th>2868</th>\n",
       "      <td>239</td>\n",
       "      <td>19</td>\n",
       "      <td>7.0</td>\n",
       "      <td>14830000.0</td>\n",
       "      <td>0.0</td>\n",
       "      <td>1.0</td>\n",
       "      <td>1</td>\n",
       "      <td>0</td>\n",
       "      <td>0</td>\n",
       "      <td>0</td>\n",
       "      <td>...</td>\n",
       "      <td>0</td>\n",
       "      <td>0</td>\n",
       "      <td>0</td>\n",
       "      <td>0</td>\n",
       "      <td>0</td>\n",
       "      <td>0</td>\n",
       "      <td>0</td>\n",
       "      <td>1</td>\n",
       "      <td>1044.05</td>\n",
       "      <td>12283.42</td>\n",
       "    </tr>\n",
       "  </tbody>\n",
       "</table>\n",
       "<p>2869 rows × 42 columns</p>\n",
       "</div>"
      ],
      "text/plain": [
       "      총세대수  전용면적별세대수   공가수       임대보증금  도보 10분거리 내 지하철역 수(환승노선 수 반영)  \\\n",
       "0      545       276  17.0   9216000.0                           0.0   \n",
       "1      545        60  17.0  12672000.0                           0.0   \n",
       "2      545        20  17.0  12672000.0                           0.0   \n",
       "3      545        38  17.0  18433000.0                           0.0   \n",
       "4      545        19  17.0  18433000.0                           0.0   \n",
       "...    ...       ...   ...         ...                           ...   \n",
       "2864   239        19   7.0  11346000.0                           0.0   \n",
       "2865   239        34   7.0  14005000.0                           0.0   \n",
       "2866   239        34   7.0  14005000.0                           0.0   \n",
       "2867   239       114   7.0  14005000.0                           0.0   \n",
       "2868   239        19   7.0  14830000.0                           0.0   \n",
       "\n",
       "      도보 10분거리 내 버스정류장 수  A  B  C  D  ...  울산광역시  전라남도  전라북도  제주특별자치도  충청남도  \\\n",
       "0                    3.0  1  0  0  0  ...      0     0     0        0     0   \n",
       "1                    3.0  1  0  0  0  ...      0     0     0        0     0   \n",
       "2                    3.0  1  0  0  0  ...      0     0     0        0     0   \n",
       "3                    3.0  1  0  0  0  ...      0     0     0        0     0   \n",
       "4                    3.0  1  0  0  0  ...      0     0     0        0     0   \n",
       "...                  ... .. .. .. ..  ...    ...   ...   ...      ...   ...   \n",
       "2864                 1.0  1  0  0  0  ...      0     0     0        0     0   \n",
       "2865                 1.0  1  0  0  0  ...      0     0     0        0     0   \n",
       "2866                 1.0  1  0  0  0  ...      0     0     0        0     0   \n",
       "2867                 1.0  1  0  0  0  ...      0     0     0        0     0   \n",
       "2868                 1.0  1  0  0  0  ...      0     0     0        0     0   \n",
       "\n",
       "      충청북도  상가  아파트  세대수 규모 당 총 전용면적  단지별 총 전용면적  \n",
       "0        0   0    1          9240.48    21941.82  \n",
       "1        0   0    1          2376.00    21941.82  \n",
       "2        0   0    1           792.00    21941.82  \n",
       "3        0   0    1          1782.20    21941.82  \n",
       "4        0   0    1           891.10    21941.82  \n",
       "...    ...  ..  ...              ...         ...  \n",
       "2864     0   0    1           934.80    12283.42  \n",
       "2865     0   0    1          1736.72    12283.42  \n",
       "2866     0   0    1          1758.82    12283.42  \n",
       "2867     0   0    1          5923.44    12283.42  \n",
       "2868     0   0    1          1044.05    12283.42  \n",
       "\n",
       "[2869 rows x 42 columns]"
      ]
     },
     "execution_count": 37,
     "metadata": {},
     "output_type": "execute_result"
    }
   ],
   "source": [
    "X_train_df_sel"
   ]
  },
  {
   "cell_type": "code",
   "execution_count": 243,
   "id": "89953dc8",
   "metadata": {
    "scrolled": false
   },
   "outputs": [
    {
     "data": {
      "text/plain": [
       "array([[-0.24854825,  0.09980247,  0.1015166 , -0.07385873, -0.40235963,\n",
       "        -0.6388798 , -1.23153021, -0.08586964, -0.1850583 , -0.49738446,\n",
       "        -0.11430211, -0.03235359, -0.05609682,  4.18445665, -0.13181763,\n",
       "        -0.19297121, -0.10787079, -0.10787079, -0.02641199, -0.10279641,\n",
       "        -0.01867284, -0.25095121,  0.21128301, -0.26405319,  1.95495492,\n",
       "        -0.38059474, -0.20061544, -0.22734603, -0.19199747, -0.31967136,\n",
       "        -0.35928128, -0.0918469 , -0.10951231, -0.23238849, -0.19872784,\n",
       "        -0.18099   , -0.24141474, -0.24543128, -0.49356501,  0.49356501,\n",
       "         0.03488239,  0.10509177],\n",
       "       [-0.24854825, -0.54553172,  0.1015166 ,  0.66893512, -0.40235963,\n",
       "        -0.6388798 ,  0.81199794, -0.08586964, -0.1850583 , -0.49738446,\n",
       "        -0.11430211, -0.03235359, -0.05609682, -0.23897965, -0.13181763,\n",
       "        -0.19297121, -0.10787079, -0.10787079, -0.02641199, -0.10279641,\n",
       "        -0.01867284, -0.25095121, -0.55080313, -0.26405319,  1.95495492,\n",
       "        -0.38059474, -0.20061544, -0.22734603, -0.19199747, -0.31967136,\n",
       "        -0.35928128, -0.0918469 , -0.10951231, -0.23238849, -0.19872784,\n",
       "        -0.18099   , -0.24141474, -0.24543128, -0.49356501,  0.49356501,\n",
       "        -0.5362206 ,  0.10509177],\n",
       "       [-0.24854825,  0.06978692,  0.1015166 ,  0.66893512, -0.40235963,\n",
       "        -0.6388798 , -1.23153021, -0.08586964, -0.1850583 , -0.49738446,\n",
       "        -0.11430211, -0.03235359, -0.05609682,  4.18445665, -0.13181763,\n",
       "        -0.19297121, -0.10787079, -0.10787079, -0.02641199, -0.10279641,\n",
       "        -0.01867284, -0.25095121,  0.17583714, -0.26405319,  1.95495492,\n",
       "        -0.38059474, -0.20061544, -0.22734603, -0.19199747, -0.31967136,\n",
       "        -0.35928128, -0.0918469 , -0.10951231, -0.23238849, -0.19872784,\n",
       "        -0.18099   , -0.24141474, -0.24543128, -0.49356501,  0.49356501,\n",
       "         0.14819458,  0.10509177],\n",
       "       [-0.24854825,  0.12981801,  0.1015166 ,  0.66893512, -0.40235963,\n",
       "        -0.6388798 , -1.23153021, -0.08586964, -0.1850583 , -0.49738446,\n",
       "        -0.11430211, -0.03235359, -0.05609682,  4.18445665, -0.13181763,\n",
       "        -0.19297121, -0.10787079, -0.10787079, -0.02641199, -0.10279641,\n",
       "        -0.01867284, -0.25095121,  0.24672887, -0.26405319,  1.95495492,\n",
       "        -0.38059474, -0.20061544, -0.22734603, -0.19199747, -0.31967136,\n",
       "        -0.35928128, -0.0918469 , -0.10951231, -0.23238849, -0.19872784,\n",
       "        -0.18099   , -0.24141474, -0.24543128, -0.49356501,  0.49356501,\n",
       "         0.21491995,  0.10509177],\n",
       "       [-0.24854825, -0.32041514,  0.1015166 ,  1.08753637, -0.40235963,\n",
       "        -0.6388798 , -1.23153021, -0.08586964, -0.1850583 , -0.49738446,\n",
       "        -0.11430211, -0.03235359, -0.05609682,  4.18445665, -0.13181763,\n",
       "        -0.19297121, -0.10787079, -0.10787079, -0.02641199, -0.10279641,\n",
       "        -0.01867284, -0.25095121, -0.28495913, -0.26405319,  1.95495492,\n",
       "        -0.38059474, -0.20061544, -0.22734603, -0.19199747, -0.31967136,\n",
       "        -0.35928128, -0.0918469 , -0.10951231, -0.23238849, -0.19872784,\n",
       "        -0.18099   , -0.24141474, -0.24543128, -0.49356501,  0.49356501,\n",
       "        -0.23686343,  0.10509177]])"
      ]
     },
     "execution_count": 243,
     "metadata": {},
     "output_type": "execute_result"
    }
   ],
   "source": [
    "from sklearn.preprocessing import StandardScaler\n",
    "\n",
    "scaler = StandardScaler()\n",
    "scaler.fit(X_train_df_sel)\n",
    "\n",
    "X_train_df_scaled = scaler.transform(X_train_df_sel)\n",
    "X_test_df_scaled = scaler.transform(X_test_df_sel)\n",
    "X_test_df_scaled[:5]"
   ]
  }
 ],
 "metadata": {
  "kernelspec": {
   "display_name": "Python 3",
   "language": "python",
   "name": "python3"
  },
  "language_info": {
   "codemirror_mode": {
    "name": "ipython",
    "version": 3
   },
   "file_extension": ".py",
   "mimetype": "text/x-python",
   "name": "python",
   "nbconvert_exporter": "python",
   "pygments_lexer": "ipython3",
   "version": "3.8.5"
  }
 },
 "nbformat": 4,
 "nbformat_minor": 5
}
