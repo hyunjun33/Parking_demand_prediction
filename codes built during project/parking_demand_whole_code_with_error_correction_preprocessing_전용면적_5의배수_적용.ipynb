{
 "cells": [
  {
   "cell_type": "code",
   "execution_count": 1,
   "id": "b5a88628",
   "metadata": {},
   "outputs": [],
   "source": [
    "import pandas as pd\n",
    "import matplotlib.pyplot as plt\n",
    "import seaborn as sns\n",
    "import numpy as np\n",
    "\n",
    "%matplotlib inline\n",
    "import matplotlib as mpl\n",
    "import matplotlib.pyplot as plt\n",
    "import matplotlib.font_manager as fm\n",
    "import copy\n",
    "\n",
    "font_path = \"C:/Windows/Fonts/MALGUN.TTF\"\n",
    "font_name = fm.FontProperties(fname=font_path).get_name()\n",
    "plt.rc('font', family=font_name)\n",
    "plt.rc('xtick', labelsize=10)\n",
    "mpl.rcParams['axes.unicode_minus'] = False"
   ]
  },
  {
   "cell_type": "code",
   "execution_count": 2,
   "id": "6bf0957c",
   "metadata": {},
   "outputs": [],
   "source": [
    "train = pd.read_csv(\"../data/dacon_parking_demand_dataset/train.csv\")\n",
    "test = pd.read_csv(\"../data/dacon_parking_demand_dataset/test.csv\")\n",
    "sub = pd.read_csv(\"../data/dacon_parking_demand_dataset/test.csv\")\n",
    "age = pd.read_csv(\"../data/dacon_parking_demand_dataset/age_gender_info.csv\")"
   ]
  },
  {
   "cell_type": "code",
   "execution_count": 3,
   "id": "714757ae",
   "metadata": {},
   "outputs": [
    {
     "data": {
      "text/plain": [
       "((2952, 15), (1022, 14))"
      ]
     },
     "execution_count": 3,
     "metadata": {},
     "output_type": "execute_result"
    }
   ],
   "source": [
    "train.shape, test.shape"
   ]
  },
  {
   "cell_type": "code",
   "execution_count": 4,
   "id": "aa205d6b",
   "metadata": {
    "scrolled": true
   },
   "outputs": [],
   "source": [
    "# 오류1번 트레인 셋 처리\n",
    "# 총세대수와 전용면적별 세대수 합이 다른 단지코드의 값을 -> 전용면적별세대수의 합으로 수정하기\n",
    "\n",
    "def house_number_correction(df):\n",
    "    error_1_group = df.groupby(\"단지코드\")[[\"총세대수\"]]\n",
    "    total_number_house_hold = error_1_group.mean()\n",
    "\n",
    "    error_2_group = df.groupby(\"단지코드\")[\"전용면적별세대수\"]\n",
    "    sum_house_hold = error_2_group.sum()\n",
    "\n",
    "    check_df = pd.concat([total_number_house_hold, sum_house_hold], axis=1)\n",
    "    different_df = check_df[check_df[\"총세대수\"] != check_df[\"전용면적별세대수\"]]\n",
    "\n",
    "    total_house_index = different_df.index\n",
    "    total_house_number = []\n",
    "    for v in different_df.values:\n",
    "        total_house_number.append(v[1])\n",
    "    \n",
    "    for code, value in zip(total_house_index, total_house_number):\n",
    "         df.loc[df[\"단지코드\"] == code, \"총세대수\"] = value\n",
    "    \n",
    "    return df\n",
    "\n",
    "train = house_number_correction(train)\n",
    "test = house_number_correction(test)"
   ]
  },
  {
   "cell_type": "code",
   "execution_count": 5,
   "id": "734f7403",
   "metadata": {
    "scrolled": true
   },
   "outputs": [
    {
     "name": "stdout",
     "output_type": "stream",
     "text": [
      "(0, 2)\n"
     ]
    },
    {
     "data": {
      "text/html": [
       "<div>\n",
       "<style scoped>\n",
       "    .dataframe tbody tr th:only-of-type {\n",
       "        vertical-align: middle;\n",
       "    }\n",
       "\n",
       "    .dataframe tbody tr th {\n",
       "        vertical-align: top;\n",
       "    }\n",
       "\n",
       "    .dataframe thead th {\n",
       "        text-align: right;\n",
       "    }\n",
       "</style>\n",
       "<table border=\"1\" class=\"dataframe\">\n",
       "  <thead>\n",
       "    <tr style=\"text-align: right;\">\n",
       "      <th></th>\n",
       "      <th>총세대수</th>\n",
       "      <th>전용면적별세대수</th>\n",
       "    </tr>\n",
       "    <tr>\n",
       "      <th>단지코드</th>\n",
       "      <th></th>\n",
       "      <th></th>\n",
       "    </tr>\n",
       "  </thead>\n",
       "  <tbody>\n",
       "  </tbody>\n",
       "</table>\n",
       "</div>"
      ],
      "text/plain": [
       "Empty DataFrame\n",
       "Columns: [총세대수, 전용면적별세대수]\n",
       "Index: []"
      ]
     },
     "execution_count": 5,
     "metadata": {},
     "output_type": "execute_result"
    }
   ],
   "source": [
    "error_1_group = train.groupby(\"단지코드\")[[\"총세대수\"]]\n",
    "total_number_house_hold = error_1_group.mean()\n",
    "\n",
    "error_2_group = train.groupby(\"단지코드\")[\"전용면적별세대수\"]\n",
    "sum_house_hold = error_2_group.sum()\n",
    "\n",
    "check_df = pd.concat([total_number_house_hold, sum_house_hold], axis=1)\n",
    "check_df = check_df[check_df[\"총세대수\"] != check_df[\"전용면적별세대수\"]]\n",
    "\n",
    "print(check_df.shape)\n",
    "check_df"
   ]
  },
  {
   "cell_type": "code",
   "execution_count": 6,
   "id": "969b1bc8",
   "metadata": {},
   "outputs": [
    {
     "data": {
      "text/plain": [
       "(0, 2)"
      ]
     },
     "execution_count": 6,
     "metadata": {},
     "output_type": "execute_result"
    }
   ],
   "source": [
    "error_1_group = test.groupby(\"단지코드\")[[\"총세대수\"]]\n",
    "total_number_house_hold = error_1_group.mean()\n",
    "\n",
    "error_2_group = test.groupby(\"단지코드\")[\"전용면적별세대수\"]\n",
    "sum_house_hold = error_2_group.sum()\n",
    "\n",
    "check_df = pd.concat([total_number_house_hold, sum_house_hold], axis=1)\n",
    "check_df = check_df[check_df[\"총세대수\"] != check_df[\"전용면적별세대수\"]]\n",
    "\n",
    "check_df.shape"
   ]
  },
  {
   "cell_type": "code",
   "execution_count": 7,
   "id": "95439a81",
   "metadata": {},
   "outputs": [
    {
     "data": {
      "text/html": [
       "<div>\n",
       "<style scoped>\n",
       "    .dataframe tbody tr th:only-of-type {\n",
       "        vertical-align: middle;\n",
       "    }\n",
       "\n",
       "    .dataframe tbody tr th {\n",
       "        vertical-align: top;\n",
       "    }\n",
       "\n",
       "    .dataframe thead th {\n",
       "        text-align: right;\n",
       "    }\n",
       "</style>\n",
       "<table border=\"1\" class=\"dataframe\">\n",
       "  <thead>\n",
       "    <tr style=\"text-align: right;\">\n",
       "      <th></th>\n",
       "      <th>단지코드</th>\n",
       "      <th>총세대수</th>\n",
       "      <th>임대건물구분</th>\n",
       "      <th>지역</th>\n",
       "      <th>공급유형</th>\n",
       "      <th>전용면적</th>\n",
       "      <th>전용면적별세대수</th>\n",
       "      <th>공가수</th>\n",
       "      <th>자격유형</th>\n",
       "      <th>임대보증금</th>\n",
       "      <th>임대료</th>\n",
       "      <th>도보 10분거리 내 지하철역 수(환승노선 수 반영)</th>\n",
       "      <th>도보 10분거리 내 버스정류장 수</th>\n",
       "      <th>단지내주차면수</th>\n",
       "      <th>등록차량수</th>\n",
       "    </tr>\n",
       "  </thead>\n",
       "  <tbody>\n",
       "  </tbody>\n",
       "</table>\n",
       "</div>"
      ],
      "text/plain": [
       "Empty DataFrame\n",
       "Columns: [단지코드, 총세대수, 임대건물구분, 지역, 공급유형, 전용면적, 전용면적별세대수, 공가수, 자격유형, 임대보증금, 임대료, 도보 10분거리 내 지하철역 수(환승노선 수 반영), 도보 10분거리 내 버스정류장 수, 단지내주차면수, 등록차량수]\n",
       "Index: []"
      ]
     },
     "execution_count": 7,
     "metadata": {},
     "output_type": "execute_result"
    }
   ],
   "source": [
    "# 오류2번 3번 처리하기\n",
    "\n",
    "train[(train[\"단지코드\"] == \"C2675\") | (train[\"단지코드\"] == \"C2335\") | (train[\"단지코드\"] == \"C1327\")]"
   ]
  },
  {
   "cell_type": "code",
   "execution_count": 8,
   "id": "3f518718",
   "metadata": {
    "scrolled": false
   },
   "outputs": [
    {
     "data": {
      "text/html": [
       "<div>\n",
       "<style scoped>\n",
       "    .dataframe tbody tr th:only-of-type {\n",
       "        vertical-align: middle;\n",
       "    }\n",
       "\n",
       "    .dataframe tbody tr th {\n",
       "        vertical-align: top;\n",
       "    }\n",
       "\n",
       "    .dataframe thead th {\n",
       "        text-align: right;\n",
       "    }\n",
       "</style>\n",
       "<table border=\"1\" class=\"dataframe\">\n",
       "  <thead>\n",
       "    <tr style=\"text-align: right;\">\n",
       "      <th></th>\n",
       "      <th>단지코드</th>\n",
       "      <th>총세대수</th>\n",
       "      <th>임대건물구분</th>\n",
       "      <th>지역</th>\n",
       "      <th>공급유형</th>\n",
       "      <th>전용면적</th>\n",
       "      <th>전용면적별세대수</th>\n",
       "      <th>공가수</th>\n",
       "      <th>자격유형</th>\n",
       "      <th>임대보증금</th>\n",
       "      <th>임대료</th>\n",
       "      <th>도보 10분거리 내 지하철역 수(환승노선 수 반영)</th>\n",
       "      <th>도보 10분거리 내 버스정류장 수</th>\n",
       "      <th>단지내주차면수</th>\n",
       "    </tr>\n",
       "  </thead>\n",
       "  <tbody>\n",
       "    <tr>\n",
       "      <th>579</th>\n",
       "      <td>C2675</td>\n",
       "      <td>512</td>\n",
       "      <td>아파트</td>\n",
       "      <td>경기도</td>\n",
       "      <td>국민임대</td>\n",
       "      <td>36.65</td>\n",
       "      <td>130</td>\n",
       "      <td>9.0</td>\n",
       "      <td>A</td>\n",
       "      <td>18476000</td>\n",
       "      <td>154790</td>\n",
       "      <td>0.0</td>\n",
       "      <td>3.0</td>\n",
       "      <td>1016.0</td>\n",
       "    </tr>\n",
       "    <tr>\n",
       "      <th>580</th>\n",
       "      <td>C2675</td>\n",
       "      <td>512</td>\n",
       "      <td>아파트</td>\n",
       "      <td>경기도</td>\n",
       "      <td>국민임대</td>\n",
       "      <td>46.90</td>\n",
       "      <td>44</td>\n",
       "      <td>9.0</td>\n",
       "      <td>A</td>\n",
       "      <td>34082000</td>\n",
       "      <td>232200</td>\n",
       "      <td>0.0</td>\n",
       "      <td>3.0</td>\n",
       "      <td>1016.0</td>\n",
       "    </tr>\n",
       "    <tr>\n",
       "      <th>581</th>\n",
       "      <td>C2675</td>\n",
       "      <td>512</td>\n",
       "      <td>아파트</td>\n",
       "      <td>경기도</td>\n",
       "      <td>국민임대</td>\n",
       "      <td>46.90</td>\n",
       "      <td>80</td>\n",
       "      <td>9.0</td>\n",
       "      <td>A</td>\n",
       "      <td>34082000</td>\n",
       "      <td>232200</td>\n",
       "      <td>0.0</td>\n",
       "      <td>3.0</td>\n",
       "      <td>1016.0</td>\n",
       "    </tr>\n",
       "  </tbody>\n",
       "</table>\n",
       "</div>"
      ],
      "text/plain": [
       "      단지코드  총세대수 임대건물구분   지역  공급유형   전용면적  전용면적별세대수  공가수 자격유형     임대보증금  \\\n",
       "579  C2675   512    아파트  경기도  국민임대  36.65       130  9.0    A  18476000   \n",
       "580  C2675   512    아파트  경기도  국민임대  46.90        44  9.0    A  34082000   \n",
       "581  C2675   512    아파트  경기도  국민임대  46.90        80  9.0    A  34082000   \n",
       "\n",
       "        임대료  도보 10분거리 내 지하철역 수(환승노선 수 반영)  도보 10분거리 내 버스정류장 수  단지내주차면수  \n",
       "579  154790                           0.0                 3.0   1016.0  \n",
       "580  232200                           0.0                 3.0   1016.0  \n",
       "581  232200                           0.0                 3.0   1016.0  "
      ]
     },
     "execution_count": 8,
     "metadata": {},
     "output_type": "execute_result"
    }
   ],
   "source": [
    "test[(test[\"단지코드\"] == \"C2675\") | (test[\"단지코드\"] == \"C2335\") | (test[\"단지코드\"] == \"C1327\")].head(3)"
   ]
  },
  {
   "cell_type": "code",
   "execution_count": 9,
   "id": "9f23190b",
   "metadata": {},
   "outputs": [],
   "source": [
    "# 테스트 데이터 셋에서 세개의 코드 데이터를 없애기 (2, 3번 3개 코드 제거)\n",
    "\n",
    "error_index = test[(test[\"단지코드\"] == \"C2675\") | (test[\"단지코드\"] == \"C2335\") | (test[\"단지코드\"] == \"C1327\")].index\n",
    "test = test.drop(index=error_index, axis=0)"
   ]
  },
  {
   "cell_type": "code",
   "execution_count": 10,
   "id": "3e8c34d5",
   "metadata": {
    "scrolled": true
   },
   "outputs": [],
   "source": [
    "# 에러2번의 5개 단지코드 트레인 셋 제거\n",
    "\n",
    "train_set_error_index = train[(train[\"단지코드\"] ==\"C2085\") | (train[\"단지코드\"] ==\"C1397\") | (train[\"단지코드\"] ==\"C2431\") | (train[\"단지코드\"] ==\"C1649\") | (train[\"단지코드\"] ==\"C1036\")].index\n",
    "train = train.drop(index=train_set_error_index, axis=0)"
   ]
  },
  {
   "cell_type": "code",
   "execution_count": 11,
   "id": "91e3e71b",
   "metadata": {},
   "outputs": [],
   "source": [
    "# 에러3번의 트레인 셋 7개 단지 코드 제거\n",
    "\n",
    "train_set_error_index = train[(train[\"단지코드\"] ==\"C1095\") | (train[\"단지코드\"] ==\"C2051\") | (train[\"단지코드\"] ==\"C1218\") | (train[\"단지코드\"] ==\"C1894\") | (train[\"단지코드\"] ==\"C2483\") | (train[\"단지코드\"] ==\"C1502\") | (train[\"단지코드\"] ==\"C1988\")].index\n",
    "train = train.drop(index=train_set_error_index, axis=0)"
   ]
  },
  {
   "cell_type": "code",
   "execution_count": 12,
   "id": "dddbef07",
   "metadata": {},
   "outputs": [
    {
     "data": {
      "text/plain": [
       "단지코드                              0\n",
       "총세대수                              0\n",
       "임대건물구분                            0\n",
       "지역                                0\n",
       "공급유형                              0\n",
       "전용면적                              0\n",
       "전용면적별세대수                          0\n",
       "공가수                               0\n",
       "자격유형                              0\n",
       "임대보증금                           180\n",
       "임대료                             180\n",
       "도보 10분거리 내 지하철역 수(환승노선 수 반영)     38\n",
       "도보 10분거리 내 버스정류장 수                0\n",
       "단지내주차면수                           0\n",
       "dtype: int64"
      ]
     },
     "execution_count": 12,
     "metadata": {},
     "output_type": "execute_result"
    }
   ],
   "source": [
    "# 자격 유형 피처 전처리\n",
    "\n",
    "test.loc[196, \"자격유형\"] = \"A\"\n",
    "test.loc[258, \"자격유형\"] = \"C\"\n",
    "test.isnull().sum()"
   ]
  },
  {
   "cell_type": "code",
   "execution_count": 13,
   "id": "603271a2",
   "metadata": {},
   "outputs": [
    {
     "data": {
      "text/plain": [
       "단지코드                              0\n",
       "총세대수                              0\n",
       "임대건물구분                            0\n",
       "지역                                0\n",
       "공급유형                              0\n",
       "전용면적                              0\n",
       "전용면적별세대수                          0\n",
       "공가수                               0\n",
       "자격유형                              0\n",
       "임대보증금                           569\n",
       "임대료                             569\n",
       "도보 10분거리 내 지하철역 수(환승노선 수 반영)    207\n",
       "도보 10분거리 내 버스정류장 수                0\n",
       "단지내주차면수                           0\n",
       "등록차량수                             0\n",
       "dtype: int64"
      ]
     },
     "execution_count": 13,
     "metadata": {},
     "output_type": "execute_result"
    }
   ],
   "source": [
    "train.isnull().sum()"
   ]
  },
  {
   "cell_type": "code",
   "execution_count": 14,
   "id": "b81bf7a8",
   "metadata": {},
   "outputs": [],
   "source": [
    "# 임대보증금 피처 전처리\n",
    "\n",
    "train_df = train.copy(deep=True)\n",
    "test_df = test.copy(deep=True)\n",
    "\n",
    "train_df[\"임대보증금\"] = train_df[\"임대보증금\"].fillna(0)\n",
    "train_df.loc[train_df[\"임대보증금\"] == \"-\", \"임대보증금\"] = 0\n",
    "train_df[\"임대보증금\"] = train_df[\"임대보증금\"].astype(int)\n",
    "\n",
    "test_df[\"임대보증금\"] = test_df[\"임대보증금\"].fillna(0)\n",
    "test_df.loc[test_df[\"임대보증금\"] == \"-\", \"임대보증금\"] = 0\n",
    "test_df[\"임대보증금\"] = test_df[\"임대보증금\"].astype(int)"
   ]
  },
  {
   "cell_type": "code",
   "execution_count": 15,
   "id": "10af68ca",
   "metadata": {},
   "outputs": [],
   "source": [
    "# 레이블 인코딩인데, 원핫 인코딩으로 바꿔보기\n",
    "\n",
    "qualification_type_feature = pd.get_dummies(train_df[\"자격유형\"])\n",
    "train_df = pd.concat([train_df, qualification_type_feature], axis=1)\n",
    "\n",
    "qualification_type_feature = pd.get_dummies(test_df[\"자격유형\"])\n",
    "test_df = pd.concat([test_df, qualification_type_feature], axis=1)\n",
    "\n",
    "test_df[\"B\"] = 0\n",
    "test_df[\"F\"] = 0\n",
    "test_df[\"O\"] = 0"
   ]
  },
  {
   "cell_type": "code",
   "execution_count": 16,
   "id": "293bdc3b",
   "metadata": {},
   "outputs": [
    {
     "data": {
      "text/plain": [
       "((2869, 30), (1008, 29))"
      ]
     },
     "execution_count": 16,
     "metadata": {},
     "output_type": "execute_result"
    }
   ],
   "source": [
    "train_df.shape, test_df.shape"
   ]
  },
  {
   "cell_type": "code",
   "execution_count": 17,
   "id": "b8f67d75",
   "metadata": {},
   "outputs": [],
   "source": [
    "# 실거주 세대수 피처 생성\n",
    "# 임대보증금이 0인 행의 데이터를 -> 트레인 셋의 중앙값으로 치환\n",
    "\n",
    "train_df[\"실거주세대수\"] = train_df[\"총세대수\"] - train_df[\"공가수\"].astype(int)\n",
    "train_df.loc[train_df[\"임대보증금\"] == 0, \"임대보증금\"] = train_df[\"임대보증금\"].median()\n",
    "\n",
    "test_df[\"실거주세대수\"] = test_df[\"총세대수\"] - test_df[\"공가수\"].astype(int)\n",
    "test_df.loc[test_df[\"임대보증금\"] == 0, \"임대보증금\"] = train_df[\"임대보증금\"].median()"
   ]
  },
  {
   "cell_type": "code",
   "execution_count": 18,
   "id": "993feee1",
   "metadata": {},
   "outputs": [],
   "source": [
    "# 세대수 별 주차면수 피처 생성\n",
    "\n",
    "train_df[\"세대수비율주차면수\"] = (train_df[\"전용면적별세대수\"] / train_df[\"실거주세대수\"]) * train_df[\"단지내주차면수\"]\n",
    "test_df[\"세대수비율주차면수\"] = (test_df[\"전용면적별세대수\"] / test_df[\"실거주세대수\"]) * test_df[\"단지내주차면수\"]"
   ]
  },
  {
   "cell_type": "code",
   "execution_count": 19,
   "id": "70a4e4e1",
   "metadata": {},
   "outputs": [],
   "source": [
    "# 버스정류장 피처 전처리\n",
    "# 최빈값인 2로 채우기\n",
    "\n",
    "train_df[\"도보 10분거리 내 버스정류장 수\"] = train_df[\"도보 10분거리 내 버스정류장 수\"].fillna(2)\n",
    "test_df[\"도보 10분거리 내 버스정류장 수\"] = test_df[\"도보 10분거리 내 버스정류장 수\"].fillna(2)"
   ]
  },
  {
   "cell_type": "code",
   "execution_count": 20,
   "id": "92f47ee3",
   "metadata": {},
   "outputs": [],
   "source": [
    "# 전철역 피처 전처리\n",
    "# Null 값 0으로 채우기\n",
    "\n",
    "train_df[\"도보 10분거리 내 지하철역 수(환승노선 수 반영)\"] = train_df[\"도보 10분거리 내 지하철역 수(환승노선 수 반영)\"].fillna(0)\n",
    "test_df[\"도보 10분거리 내 지하철역 수(환승노선 수 반영)\"] = test_df[\"도보 10분거리 내 지하철역 수(환승노선 수 반영)\"].fillna(0)"
   ]
  },
  {
   "cell_type": "code",
   "execution_count": 21,
   "id": "3ca83316",
   "metadata": {},
   "outputs": [
    {
     "data": {
      "text/plain": [
       "<AxesSubplot:>"
      ]
     },
     "execution_count": 21,
     "metadata": {},
     "output_type": "execute_result"
    },
    {
     "data": {
      "image/png": "[encoded data removed]",
      "text/plain": [
       "<Figure size 432x288 with 1 Axes>"
      ]
     },
     "metadata": {
      "needs_background": "light"
     },
     "output_type": "display_data"
    }
   ],
   "source": [
    "area_group = train_df.groupby(\"지역\")[\"등록차량수\"]\n",
    "\n",
    "values = area_group.get_group(\"경기도\").value_counts().index\n",
    "counts = area_group.get_group(\"경기도\").value_counts().values\n",
    "\n",
    "sns.scatterplot(x=counts, y=values)"
   ]
  },
  {
   "cell_type": "code",
   "execution_count": 22,
   "id": "833e4fca",
   "metadata": {},
   "outputs": [],
   "source": [
    "# 지역 피처 원핫 인코딩\n",
    "\n",
    "area_df = pd.get_dummies(train_df[\"지역\"])\n",
    "area_df = area_df.drop(\"서울특별시\", axis=1)\n",
    "train_df = pd.concat([train_df, area_df], axis=1)\n",
    "\n",
    "area_df = pd.get_dummies(test_df[\"지역\"])\n",
    "test_df = pd.concat([test_df, area_df], axis=1)"
   ]
  },
  {
   "cell_type": "code",
   "execution_count": 23,
   "id": "65b57c6a",
   "metadata": {},
   "outputs": [],
   "source": [
    "# 임대건물 구분 피처 전처리 (아파트, 상가 원핫 인코딩)\n",
    "\n",
    "train_df = pd.concat([train_df, pd.get_dummies(train_df[\"임대건물구분\"])], axis=1)\n",
    "train_df.drop(\"임대건물구분\", axis=1, inplace=True)\n",
    "\n",
    "test_df = pd.concat([test_df, pd.get_dummies(test_df[\"임대건물구분\"])], axis=1)\n",
    "test_df.drop(\"임대건물구분\", axis=1, inplace=True)"
   ]
  },
  {
   "cell_type": "code",
   "execution_count": 24,
   "id": "75bd180a",
   "metadata": {},
   "outputs": [],
   "source": [
    "# 전용 면적 피처를 5의 배수로 전처리, 전후로 비교해서 (103.69 -> 102.80까지 떨어짐)\n",
    "train_df[\"전용면적\"] = train_df[\"전용면적\"] // 5*5\n",
    "test_df[\"전용면적\"] = test_df[\"전용면적\"] // 5*5"
   ]
  },
  {
   "cell_type": "code",
   "execution_count": 25,
   "id": "92edfc25",
   "metadata": {},
   "outputs": [],
   "source": [
    "# 세대수 규모 당 총 전용 면적 피처 생성\n",
    "\n",
    "train_df[\"세대수 규모 당 총 전용면적\"] = train_df[\"전용면적\"] * train_df[\"전용면적별세대수\"]\n",
    "test_df[\"세대수 규모 당 총 전용면적\"] = test_df[\"전용면적\"] * test_df[\"전용면적별세대수\"]"
   ]
  },
  {
   "cell_type": "code",
   "execution_count": 26,
   "id": "a1e4aee0",
   "metadata": {},
   "outputs": [],
   "source": [
    "# 단지별 총 전용 면적 피처 생성\n",
    "\n",
    "train_df[\"단지별 총 전용면적\"] = train_df.groupby(\"단지코드\")[\"세대수 규모 당 총 전용면적\"].transform(np.sum)\n",
    "test_df[\"단지별 총 전용면적\"] = test_df.groupby(\"단지코드\")[\"세대수 규모 당 총 전용면적\"].transform(np.sum)"
   ]
  },
  {
   "cell_type": "code",
   "execution_count": 27,
   "id": "8c632a5c",
   "metadata": {},
   "outputs": [],
   "source": [
    "# 전용면적 당 차량등록수 피처 생성\n",
    "\n",
    "train_df[\"전용면적 당 차량등록수\"] = (train_df[\"세대수 규모 당 총 전용면적\"] / train_df[\"단지별 총 전용면적\"]) * train_df[\"등록차량수\"]"
   ]
  },
  {
   "cell_type": "code",
   "execution_count": 28,
   "id": "6b68951f",
   "metadata": {},
   "outputs": [],
   "source": [
    "# X_train & X_test 셋 선택\n",
    "\n",
    "X_train_df_sel = train_df.drop([\"단지코드\", \"지역\", \"공급유형\", \"전용면적\", \"자격유형\", \"임대료\",\n",
    "                                \"단지내주차면수\", \"등록차량수\", \"전용면적 당 차량등록수\"], axis=1)\n",
    "\n",
    "X_test_df_sel = test_df.drop([\"단지코드\", \"지역\", \"공급유형\", \"전용면적\", \"자격유형\", \"임대료\",\n",
    "                              \"단지내주차면수\"], axis=1)\n",
    "\n",
    "y_train_df = train_df[\"전용면적 당 차량등록수\"]"
   ]
  },
  {
   "cell_type": "code",
   "execution_count": 29,
   "id": "91c057c4",
   "metadata": {},
   "outputs": [
    {
     "data": {
      "text/plain": [
       "Index(['총세대수', '전용면적별세대수', '공가수', '임대보증금', '도보 10분거리 내 지하철역 수(환승노선 수 반영)',\n",
       "       '도보 10분거리 내 버스정류장 수', 'A', 'B', 'C', 'D', 'E', 'F', 'G', 'H', 'I', 'J',\n",
       "       'K', 'L', 'M', 'N', 'O', '실거주세대수', '세대수비율주차면수', '강원도', '경기도', '경상남도',\n",
       "       '경상북도', '광주광역시', '대구광역시', '대전광역시', '부산광역시', '세종특별자치시', '울산광역시', '전라남도',\n",
       "       '전라북도', '제주특별자치도', '충청남도', '충청북도', '상가', '아파트', '세대수 규모 당 총 전용면적',\n",
       "       '단지별 총 전용면적'],\n",
       "      dtype='object')"
      ]
     },
     "execution_count": 29,
     "metadata": {},
     "output_type": "execute_result"
    }
   ],
   "source": [
    "X_train_df_sel.columns"
   ]
  },
  {
   "cell_type": "code",
   "execution_count": 30,
   "id": "758eab29",
   "metadata": {},
   "outputs": [
    {
     "data": {
      "text/plain": [
       "Index(['총세대수', '전용면적별세대수', '공가수', '임대보증금', '도보 10분거리 내 지하철역 수(환승노선 수 반영)',\n",
       "       '도보 10분거리 내 버스정류장 수', 'A', 'B', 'C', 'D', 'E', 'F', 'G', 'H', 'I', 'J',\n",
       "       'K', 'L', 'M', 'N', 'O', '실거주세대수', '세대수비율주차면수', '강원도', '경기도', '경상남도',\n",
       "       '경상북도', '광주광역시', '대구광역시', '대전광역시', '부산광역시', '세종특별자치시', '울산광역시', '전라남도',\n",
       "       '전라북도', '제주특별자치도', '충청남도', '충청북도', '상가', '아파트', '세대수 규모 당 총 전용면적',\n",
       "       '단지별 총 전용면적'],\n",
       "      dtype='object')"
      ]
     },
     "execution_count": 30,
     "metadata": {},
     "output_type": "execute_result"
    }
   ],
   "source": [
    "column_names = ['총세대수', '전용면적별세대수', '공가수', '임대보증금', '도보 10분거리 내 지하철역 수(환승노선 수 반영)',\n",
    "       '도보 10분거리 내 버스정류장 수', 'A', 'B', 'C', 'D', 'E', 'F', 'G', 'H', 'I', 'J',\n",
    "       'K', 'L', 'M', 'N', 'O', '실거주세대수', '세대수비율주차면수', '강원도', '경기도', '경상남도',\n",
    "       '경상북도', '광주광역시', '대구광역시', '대전광역시', '부산광역시', '세종특별자치시', '울산광역시', '전라남도',\n",
    "       '전라북도', '제주특별자치도', '충청남도', '충청북도', '상가', '아파트', '세대수 규모 당 총 전용면적',\n",
    "       '단지별 총 전용면적']\n",
    "\n",
    "X_test_df_sel = X_test_df_sel.reindex(columns=column_names)\n",
    "X_test_df_sel.columns"
   ]
  },
  {
   "cell_type": "code",
   "execution_count": 31,
   "id": "e297a7ef",
   "metadata": {
    "scrolled": true
   },
   "outputs": [
    {
     "data": {
      "text/html": [
       "<div>\n",
       "<style scoped>\n",
       "    .dataframe tbody tr th:only-of-type {\n",
       "        vertical-align: middle;\n",
       "    }\n",
       "\n",
       "    .dataframe tbody tr th {\n",
       "        vertical-align: top;\n",
       "    }\n",
       "\n",
       "    .dataframe thead th {\n",
       "        text-align: right;\n",
       "    }\n",
       "</style>\n",
       "<table border=\"1\" class=\"dataframe\">\n",
       "  <thead>\n",
       "    <tr style=\"text-align: right;\">\n",
       "      <th></th>\n",
       "      <th>총세대수</th>\n",
       "      <th>전용면적별세대수</th>\n",
       "      <th>공가수</th>\n",
       "      <th>임대보증금</th>\n",
       "      <th>도보 10분거리 내 지하철역 수(환승노선 수 반영)</th>\n",
       "      <th>도보 10분거리 내 버스정류장 수</th>\n",
       "      <th>A</th>\n",
       "      <th>B</th>\n",
       "      <th>C</th>\n",
       "      <th>D</th>\n",
       "      <th>...</th>\n",
       "      <th>울산광역시</th>\n",
       "      <th>전라남도</th>\n",
       "      <th>전라북도</th>\n",
       "      <th>제주특별자치도</th>\n",
       "      <th>충청남도</th>\n",
       "      <th>충청북도</th>\n",
       "      <th>상가</th>\n",
       "      <th>아파트</th>\n",
       "      <th>세대수 규모 당 총 전용면적</th>\n",
       "      <th>단지별 총 전용면적</th>\n",
       "    </tr>\n",
       "  </thead>\n",
       "  <tbody>\n",
       "    <tr>\n",
       "      <th>8</th>\n",
       "      <td>545</td>\n",
       "      <td>276</td>\n",
       "      <td>17.0</td>\n",
       "      <td>9216000.0</td>\n",
       "      <td>0.0</td>\n",
       "      <td>3.0</td>\n",
       "      <td>1</td>\n",
       "      <td>0</td>\n",
       "      <td>0</td>\n",
       "      <td>0</td>\n",
       "      <td>...</td>\n",
       "      <td>0</td>\n",
       "      <td>0</td>\n",
       "      <td>0</td>\n",
       "      <td>0</td>\n",
       "      <td>0</td>\n",
       "      <td>0</td>\n",
       "      <td>0</td>\n",
       "      <td>1</td>\n",
       "      <td>8280.0</td>\n",
       "      <td>20245.0</td>\n",
       "    </tr>\n",
       "    <tr>\n",
       "      <th>9</th>\n",
       "      <td>545</td>\n",
       "      <td>60</td>\n",
       "      <td>17.0</td>\n",
       "      <td>12672000.0</td>\n",
       "      <td>0.0</td>\n",
       "      <td>3.0</td>\n",
       "      <td>1</td>\n",
       "      <td>0</td>\n",
       "      <td>0</td>\n",
       "      <td>0</td>\n",
       "      <td>...</td>\n",
       "      <td>0</td>\n",
       "      <td>0</td>\n",
       "      <td>0</td>\n",
       "      <td>0</td>\n",
       "      <td>0</td>\n",
       "      <td>0</td>\n",
       "      <td>0</td>\n",
       "      <td>1</td>\n",
       "      <td>2100.0</td>\n",
       "      <td>20245.0</td>\n",
       "    </tr>\n",
       "    <tr>\n",
       "      <th>10</th>\n",
       "      <td>545</td>\n",
       "      <td>20</td>\n",
       "      <td>17.0</td>\n",
       "      <td>12672000.0</td>\n",
       "      <td>0.0</td>\n",
       "      <td>3.0</td>\n",
       "      <td>1</td>\n",
       "      <td>0</td>\n",
       "      <td>0</td>\n",
       "      <td>0</td>\n",
       "      <td>...</td>\n",
       "      <td>0</td>\n",
       "      <td>0</td>\n",
       "      <td>0</td>\n",
       "      <td>0</td>\n",
       "      <td>0</td>\n",
       "      <td>0</td>\n",
       "      <td>0</td>\n",
       "      <td>1</td>\n",
       "      <td>700.0</td>\n",
       "      <td>20245.0</td>\n",
       "    </tr>\n",
       "    <tr>\n",
       "      <th>11</th>\n",
       "      <td>545</td>\n",
       "      <td>38</td>\n",
       "      <td>17.0</td>\n",
       "      <td>18433000.0</td>\n",
       "      <td>0.0</td>\n",
       "      <td>3.0</td>\n",
       "      <td>1</td>\n",
       "      <td>0</td>\n",
       "      <td>0</td>\n",
       "      <td>0</td>\n",
       "      <td>...</td>\n",
       "      <td>0</td>\n",
       "      <td>0</td>\n",
       "      <td>0</td>\n",
       "      <td>0</td>\n",
       "      <td>0</td>\n",
       "      <td>0</td>\n",
       "      <td>0</td>\n",
       "      <td>1</td>\n",
       "      <td>1710.0</td>\n",
       "      <td>20245.0</td>\n",
       "    </tr>\n",
       "    <tr>\n",
       "      <th>12</th>\n",
       "      <td>545</td>\n",
       "      <td>19</td>\n",
       "      <td>17.0</td>\n",
       "      <td>18433000.0</td>\n",
       "      <td>0.0</td>\n",
       "      <td>3.0</td>\n",
       "      <td>1</td>\n",
       "      <td>0</td>\n",
       "      <td>0</td>\n",
       "      <td>0</td>\n",
       "      <td>...</td>\n",
       "      <td>0</td>\n",
       "      <td>0</td>\n",
       "      <td>0</td>\n",
       "      <td>0</td>\n",
       "      <td>0</td>\n",
       "      <td>0</td>\n",
       "      <td>0</td>\n",
       "      <td>1</td>\n",
       "      <td>855.0</td>\n",
       "      <td>20245.0</td>\n",
       "    </tr>\n",
       "    <tr>\n",
       "      <th>...</th>\n",
       "      <td>...</td>\n",
       "      <td>...</td>\n",
       "      <td>...</td>\n",
       "      <td>...</td>\n",
       "      <td>...</td>\n",
       "      <td>...</td>\n",
       "      <td>...</td>\n",
       "      <td>...</td>\n",
       "      <td>...</td>\n",
       "      <td>...</td>\n",
       "      <td>...</td>\n",
       "      <td>...</td>\n",
       "      <td>...</td>\n",
       "      <td>...</td>\n",
       "      <td>...</td>\n",
       "      <td>...</td>\n",
       "      <td>...</td>\n",
       "      <td>...</td>\n",
       "      <td>...</td>\n",
       "      <td>...</td>\n",
       "      <td>...</td>\n",
       "    </tr>\n",
       "    <tr>\n",
       "      <th>2947</th>\n",
       "      <td>239</td>\n",
       "      <td>19</td>\n",
       "      <td>7.0</td>\n",
       "      <td>11346000.0</td>\n",
       "      <td>0.0</td>\n",
       "      <td>1.0</td>\n",
       "      <td>1</td>\n",
       "      <td>0</td>\n",
       "      <td>0</td>\n",
       "      <td>0</td>\n",
       "      <td>...</td>\n",
       "      <td>0</td>\n",
       "      <td>0</td>\n",
       "      <td>0</td>\n",
       "      <td>0</td>\n",
       "      <td>0</td>\n",
       "      <td>0</td>\n",
       "      <td>0</td>\n",
       "      <td>1</td>\n",
       "      <td>855.0</td>\n",
       "      <td>11760.0</td>\n",
       "    </tr>\n",
       "    <tr>\n",
       "      <th>2948</th>\n",
       "      <td>239</td>\n",
       "      <td>34</td>\n",
       "      <td>7.0</td>\n",
       "      <td>14005000.0</td>\n",
       "      <td>0.0</td>\n",
       "      <td>1.0</td>\n",
       "      <td>1</td>\n",
       "      <td>0</td>\n",
       "      <td>0</td>\n",
       "      <td>0</td>\n",
       "      <td>...</td>\n",
       "      <td>0</td>\n",
       "      <td>0</td>\n",
       "      <td>0</td>\n",
       "      <td>0</td>\n",
       "      <td>0</td>\n",
       "      <td>0</td>\n",
       "      <td>0</td>\n",
       "      <td>1</td>\n",
       "      <td>1700.0</td>\n",
       "      <td>11760.0</td>\n",
       "    </tr>\n",
       "    <tr>\n",
       "      <th>2949</th>\n",
       "      <td>239</td>\n",
       "      <td>34</td>\n",
       "      <td>7.0</td>\n",
       "      <td>14005000.0</td>\n",
       "      <td>0.0</td>\n",
       "      <td>1.0</td>\n",
       "      <td>1</td>\n",
       "      <td>0</td>\n",
       "      <td>0</td>\n",
       "      <td>0</td>\n",
       "      <td>...</td>\n",
       "      <td>0</td>\n",
       "      <td>0</td>\n",
       "      <td>0</td>\n",
       "      <td>0</td>\n",
       "      <td>0</td>\n",
       "      <td>0</td>\n",
       "      <td>0</td>\n",
       "      <td>1</td>\n",
       "      <td>1700.0</td>\n",
       "      <td>11760.0</td>\n",
       "    </tr>\n",
       "    <tr>\n",
       "      <th>2950</th>\n",
       "      <td>239</td>\n",
       "      <td>114</td>\n",
       "      <td>7.0</td>\n",
       "      <td>14005000.0</td>\n",
       "      <td>0.0</td>\n",
       "      <td>1.0</td>\n",
       "      <td>1</td>\n",
       "      <td>0</td>\n",
       "      <td>0</td>\n",
       "      <td>0</td>\n",
       "      <td>...</td>\n",
       "      <td>0</td>\n",
       "      <td>0</td>\n",
       "      <td>0</td>\n",
       "      <td>0</td>\n",
       "      <td>0</td>\n",
       "      <td>0</td>\n",
       "      <td>0</td>\n",
       "      <td>1</td>\n",
       "      <td>5700.0</td>\n",
       "      <td>11760.0</td>\n",
       "    </tr>\n",
       "    <tr>\n",
       "      <th>2951</th>\n",
       "      <td>239</td>\n",
       "      <td>19</td>\n",
       "      <td>7.0</td>\n",
       "      <td>14830000.0</td>\n",
       "      <td>0.0</td>\n",
       "      <td>1.0</td>\n",
       "      <td>1</td>\n",
       "      <td>0</td>\n",
       "      <td>0</td>\n",
       "      <td>0</td>\n",
       "      <td>...</td>\n",
       "      <td>0</td>\n",
       "      <td>0</td>\n",
       "      <td>0</td>\n",
       "      <td>0</td>\n",
       "      <td>0</td>\n",
       "      <td>0</td>\n",
       "      <td>0</td>\n",
       "      <td>1</td>\n",
       "      <td>950.0</td>\n",
       "      <td>11760.0</td>\n",
       "    </tr>\n",
       "  </tbody>\n",
       "</table>\n",
       "<p>2869 rows × 42 columns</p>\n",
       "</div>"
      ],
      "text/plain": [
       "      총세대수  전용면적별세대수   공가수       임대보증금  도보 10분거리 내 지하철역 수(환승노선 수 반영)  \\\n",
       "8      545       276  17.0   9216000.0                           0.0   \n",
       "9      545        60  17.0  12672000.0                           0.0   \n",
       "10     545        20  17.0  12672000.0                           0.0   \n",
       "11     545        38  17.0  18433000.0                           0.0   \n",
       "12     545        19  17.0  18433000.0                           0.0   \n",
       "...    ...       ...   ...         ...                           ...   \n",
       "2947   239        19   7.0  11346000.0                           0.0   \n",
       "2948   239        34   7.0  14005000.0                           0.0   \n",
       "2949   239        34   7.0  14005000.0                           0.0   \n",
       "2950   239       114   7.0  14005000.0                           0.0   \n",
       "2951   239        19   7.0  14830000.0                           0.0   \n",
       "\n",
       "      도보 10분거리 내 버스정류장 수  A  B  C  D  ...  울산광역시  전라남도  전라북도  제주특별자치도  충청남도  \\\n",
       "8                    3.0  1  0  0  0  ...      0     0     0        0     0   \n",
       "9                    3.0  1  0  0  0  ...      0     0     0        0     0   \n",
       "10                   3.0  1  0  0  0  ...      0     0     0        0     0   \n",
       "11                   3.0  1  0  0  0  ...      0     0     0        0     0   \n",
       "12                   3.0  1  0  0  0  ...      0     0     0        0     0   \n",
       "...                  ... .. .. .. ..  ...    ...   ...   ...      ...   ...   \n",
       "2947                 1.0  1  0  0  0  ...      0     0     0        0     0   \n",
       "2948                 1.0  1  0  0  0  ...      0     0     0        0     0   \n",
       "2949                 1.0  1  0  0  0  ...      0     0     0        0     0   \n",
       "2950                 1.0  1  0  0  0  ...      0     0     0        0     0   \n",
       "2951                 1.0  1  0  0  0  ...      0     0     0        0     0   \n",
       "\n",
       "      충청북도  상가  아파트  세대수 규모 당 총 전용면적  단지별 총 전용면적  \n",
       "8        0   0    1           8280.0     20245.0  \n",
       "9        0   0    1           2100.0     20245.0  \n",
       "10       0   0    1            700.0     20245.0  \n",
       "11       0   0    1           1710.0     20245.0  \n",
       "12       0   0    1            855.0     20245.0  \n",
       "...    ...  ..  ...              ...         ...  \n",
       "2947     0   0    1            855.0     11760.0  \n",
       "2948     0   0    1           1700.0     11760.0  \n",
       "2949     0   0    1           1700.0     11760.0  \n",
       "2950     0   0    1           5700.0     11760.0  \n",
       "2951     0   0    1            950.0     11760.0  \n",
       "\n",
       "[2869 rows x 42 columns]"
      ]
     },
     "execution_count": 31,
     "metadata": {},
     "output_type": "execute_result"
    }
   ],
   "source": [
    "X_train_df_sel"
   ]
  },
  {
   "cell_type": "code",
   "execution_count": 32,
   "id": "89953dc8",
   "metadata": {
    "scrolled": true
   },
   "outputs": [
    {
     "data": {
      "text/plain": [
       "array([[-0.24854825,  0.09980247,  0.1015166 , -0.07385873, -0.40235963,\n",
       "        -0.6388798 , -1.23153021, -0.08586964, -0.1850583 , -0.49738446,\n",
       "        -0.11430211, -0.03235359, -0.05609682,  4.18445665, -0.13181763,\n",
       "        -0.19297121, -0.10787079, -0.10787079, -0.02641199, -0.10279641,\n",
       "        -0.01867284, -0.25095121,  0.21128301, -0.26405319,  1.95495492,\n",
       "        -0.38059474, -0.20061544, -0.22734603, -0.19199747, -0.31967136,\n",
       "        -0.35928128, -0.0918469 , -0.10951231, -0.23238849, -0.19872784,\n",
       "        -0.18099   , -0.24141474, -0.24543128, -0.49356501,  0.49356501,\n",
       "        -0.01793852,  0.12848285],\n",
       "       [-0.24854825, -0.54553172,  0.1015166 ,  0.66893512, -0.40235963,\n",
       "        -0.6388798 ,  0.81199794, -0.08586964, -0.1850583 , -0.49738446,\n",
       "        -0.11430211, -0.03235359, -0.05609682, -0.23897965, -0.13181763,\n",
       "        -0.19297121, -0.10787079, -0.10787079, -0.02641199, -0.10279641,\n",
       "        -0.01867284, -0.25095121, -0.55080313, -0.26405319,  1.95495492,\n",
       "        -0.38059474, -0.20061544, -0.22734603, -0.19199747, -0.31967136,\n",
       "        -0.35928128, -0.0918469 , -0.10951231, -0.23238849, -0.19872784,\n",
       "        -0.18099   , -0.24141474, -0.24543128, -0.49356501,  0.49356501,\n",
       "        -0.53002473,  0.12848285],\n",
       "       [-0.24854825,  0.06978692,  0.1015166 ,  0.66893512, -0.40235963,\n",
       "        -0.6388798 , -1.23153021, -0.08586964, -0.1850583 , -0.49738446,\n",
       "        -0.11430211, -0.03235359, -0.05609682,  4.18445665, -0.13181763,\n",
       "        -0.19297121, -0.10787079, -0.10787079, -0.02641199, -0.10279641,\n",
       "        -0.01867284, -0.25095121,  0.17583714, -0.26405319,  1.95495492,\n",
       "        -0.38059474, -0.20061544, -0.22734603, -0.19199747, -0.31967136,\n",
       "        -0.35928128, -0.0918469 , -0.10951231, -0.23238849, -0.19872784,\n",
       "        -0.18099   , -0.24141474, -0.24543128, -0.49356501,  0.49356501,\n",
       "         0.16724395,  0.12848285],\n",
       "       [-0.24854825,  0.12981801,  0.1015166 ,  0.66893512, -0.40235963,\n",
       "        -0.6388798 , -1.23153021, -0.08586964, -0.1850583 , -0.49738446,\n",
       "        -0.11430211, -0.03235359, -0.05609682,  4.18445665, -0.13181763,\n",
       "        -0.19297121, -0.10787079, -0.10787079, -0.02641199, -0.10279641,\n",
       "        -0.01867284, -0.25095121,  0.24672887, -0.26405319,  1.95495492,\n",
       "        -0.38059474, -0.20061544, -0.22734603, -0.19199747, -0.31967136,\n",
       "        -0.35928128, -0.0918469 , -0.10951231, -0.23238849, -0.19872784,\n",
       "        -0.18099   , -0.24141474, -0.24543128, -0.49356501,  0.49356501,\n",
       "         0.23527016,  0.12848285],\n",
       "       [-0.24854825, -0.32041514,  0.1015166 ,  1.08753637, -0.40235963,\n",
       "        -0.6388798 , -1.23153021, -0.08586964, -0.1850583 , -0.49738446,\n",
       "        -0.11430211, -0.03235359, -0.05609682,  4.18445665, -0.13181763,\n",
       "        -0.19297121, -0.10787079, -0.10787079, -0.02641199, -0.10279641,\n",
       "        -0.01867284, -0.25095121, -0.28495913, -0.26405319,  1.95495492,\n",
       "        -0.38059474, -0.20061544, -0.22734603, -0.19199747, -0.31967136,\n",
       "        -0.35928128, -0.0918469 , -0.10951231, -0.23238849, -0.19872784,\n",
       "        -0.18099   , -0.24141474, -0.24543128, -0.49356501,  0.49356501,\n",
       "        -0.21823792,  0.12848285]])"
      ]
     },
     "execution_count": 32,
     "metadata": {},
     "output_type": "execute_result"
    }
   ],
   "source": [
    "from sklearn.preprocessing import StandardScaler\n",
    "\n",
    "scaler = StandardScaler()\n",
    "scaler.fit(X_train_df_sel)\n",
    "\n",
    "X_train_df_scaled = scaler.transform(X_train_df_sel)\n",
    "X_test_df_scaled = scaler.transform(X_test_df_sel)\n",
    "X_test_df_scaled[:5]"
   ]
  },
  {
   "cell_type": "markdown",
   "id": "3c2ad81f",
   "metadata": {},
   "source": [
    "### 랜덤포레스트회귀 모델 102.80211"
   ]
  },
  {
   "cell_type": "code",
   "execution_count": 33,
   "id": "d3eccef2",
   "metadata": {
    "scrolled": true
   },
   "outputs": [
    {
     "data": {
      "text/html": [
       "<div>\n",
       "<style scoped>\n",
       "    .dataframe tbody tr th:only-of-type {\n",
       "        vertical-align: middle;\n",
       "    }\n",
       "\n",
       "    .dataframe tbody tr th {\n",
       "        vertical-align: top;\n",
       "    }\n",
       "\n",
       "    .dataframe thead th {\n",
       "        text-align: right;\n",
       "    }\n",
       "</style>\n",
       "<table border=\"1\" class=\"dataframe\">\n",
       "  <thead>\n",
       "    <tr style=\"text-align: right;\">\n",
       "      <th></th>\n",
       "      <th>code</th>\n",
       "      <th>num</th>\n",
       "    </tr>\n",
       "  </thead>\n",
       "  <tbody>\n",
       "    <tr>\n",
       "      <th>0</th>\n",
       "      <td>C1072</td>\n",
       "      <td>778.594431</td>\n",
       "    </tr>\n",
       "    <tr>\n",
       "      <th>1</th>\n",
       "      <td>C1128</td>\n",
       "      <td>1333.902809</td>\n",
       "    </tr>\n",
       "    <tr>\n",
       "      <th>2</th>\n",
       "      <td>C1456</td>\n",
       "      <td>553.630980</td>\n",
       "    </tr>\n",
       "    <tr>\n",
       "      <th>3</th>\n",
       "      <td>C1840</td>\n",
       "      <td>474.834929</td>\n",
       "    </tr>\n",
       "    <tr>\n",
       "      <th>4</th>\n",
       "      <td>C1332</td>\n",
       "      <td>1218.445867</td>\n",
       "    </tr>\n",
       "    <tr>\n",
       "      <th>...</th>\n",
       "      <td>...</td>\n",
       "      <td>...</td>\n",
       "    </tr>\n",
       "    <tr>\n",
       "      <th>145</th>\n",
       "      <td>C2456</td>\n",
       "      <td>260.835761</td>\n",
       "    </tr>\n",
       "    <tr>\n",
       "      <th>146</th>\n",
       "      <td>C1266</td>\n",
       "      <td>392.789109</td>\n",
       "    </tr>\n",
       "    <tr>\n",
       "      <th>147</th>\n",
       "      <td>C2152</td>\n",
       "      <td>52.441240</td>\n",
       "    </tr>\n",
       "    <tr>\n",
       "      <th>148</th>\n",
       "      <td>C1267</td>\n",
       "      <td>389.397140</td>\n",
       "    </tr>\n",
       "    <tr>\n",
       "      <th>149</th>\n",
       "      <td>C2189</td>\n",
       "      <td>233.748979</td>\n",
       "    </tr>\n",
       "  </tbody>\n",
       "</table>\n",
       "<p>150 rows × 2 columns</p>\n",
       "</div>"
      ],
      "text/plain": [
       "      code          num\n",
       "0    C1072   778.594431\n",
       "1    C1128  1333.902809\n",
       "2    C1456   553.630980\n",
       "3    C1840   474.834929\n",
       "4    C1332  1218.445867\n",
       "..     ...          ...\n",
       "145  C2456   260.835761\n",
       "146  C1266   392.789109\n",
       "147  C2152    52.441240\n",
       "148  C1267   389.397140\n",
       "149  C2189   233.748979\n",
       "\n",
       "[150 rows x 2 columns]"
      ]
     },
     "execution_count": 33,
     "metadata": {},
     "output_type": "execute_result"
    }
   ],
   "source": [
    "# 최고 스코어 모델 -> 피처 42개 적용 및 모델 디폴트 설정으로 학습\n",
    "\n",
    "from sklearn.ensemble import RandomForestRegressor\n",
    "\n",
    "model = RandomForestRegressor(n_jobs=-1, random_state=42)\n",
    "model.fit(X_train_df_scaled, y_train_df)\n",
    "pred = model.predict(X_test_df_scaled)\n",
    "\n",
    "result = pd.DataFrame(data=pred, columns=[\"전용면적 당 차량등록수\"], index=test_df.index)\n",
    "result[\"단지코드\"] = test_df.loc[test_df.index, \"단지코드\"]\n",
    "\n",
    "pred_group = result.groupby(\"단지코드\")[\"전용면적 당 차량등록수\"].sum()\n",
    "final_pred = pd.Series(pred_group)\n",
    "final_pred = final_pred.reset_index(drop=False)\n",
    "\n",
    "sub_df = sub.merge(final_pred, how=\"left\")\n",
    "sub_df = sub_df.drop_duplicates([\"단지코드\"], keep=\"first\").reset_index()\n",
    "sub_df = sub_df[[\"단지코드\", \"전용면적 당 차량등록수\"]]\n",
    "sub_df = sub_df.rename(columns={\"단지코드\":\"code\", \"전용면적 당 차량등록수\": \"num\"})\n",
    "# sub_df.to_csv(\"rf_regressor_with_전용면적_5의배수_전처리_0720.csv\", index=False)\n",
    "\n",
    "sub_df"
   ]
  },
  {
   "cell_type": "code",
   "execution_count": 34,
   "id": "929c10c3",
   "metadata": {},
   "outputs": [
    {
     "data": {
      "image/png": "[encoded data removed]",
      "text/plain": [
       "<Figure size 1440x864 with 1 Axes>"
      ]
     },
     "metadata": {
      "needs_background": "light"
     },
     "output_type": "display_data"
    }
   ],
   "source": [
    "importance = model.feature_importances_\n",
    "feature_importance = pd.Series(data=importance, index=X_train_df_sel.columns)\n",
    "feature_importance = feature_importance.sort_values(ascending=False)\n",
    "\n",
    "plt.figure(figsize=(20, 12))\n",
    "sns.barplot(x=feature_importance, y=feature_importance.index)\n",
    "plt.show()"
   ]
  }
 ],
 "metadata": {
  "kernelspec": {
   "display_name": "Python 3",
   "language": "python",
   "name": "python3"
  },
  "language_info": {
   "codemirror_mode": {
    "name": "ipython",
    "version": 3
   },
   "file_extension": ".py",
   "mimetype": "text/x-python",
   "name": "python",
   "nbconvert_exporter": "python",
   "pygments_lexer": "ipython3",
   "version": "3.8.5"
  }
 },
 "nbformat": 4,
 "nbformat_minor": 5
}
